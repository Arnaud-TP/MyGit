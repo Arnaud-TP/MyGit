{
  "cells": [
    {
      "cell_type": "markdown",
      "metadata": {
        "id": "qoMrmi5JUDXw"
      },
      "source": [
        "# Ceci est la partie 0 des TPs d'OASIS.\n",
        "Le but de cette partie est de se familiariser avec les formats de données de Python et de savoir utiliser ce langage de programmation pour mettre en pratique ce qui aura été vu en cours.\n",
        "\n",
        " La première cellule qui se trouve ci-dessous ne contient que des imports de librairies utiles dans les TP. Il faut l'executer sans réfléchir à son contenu.\n",
        "\n",
        "\n",
        " Pour réaliser cette partie de manière utile, il suffit de lire le texte en préambule avant chaque cellule et réfléchir au code et comprendre comment le code a produit le résultat affiché.\n",
        "\n",
        " Cette partie 0 vous prendra entre 30 et 45 minutes. Il est important de comprendre le fonctionnement de toutes les cellules (sauf la première)\n"
      ]
    },
    {
      "cell_type": "code",
      "execution_count": 1,
      "metadata": {
        "id": "bIoDRwWw3LUu"
      },
      "outputs": [],
      "source": [
        "import numpy as np\n",
        "import simpleaudio as sa\n",
        "from IPython.display import Audio,display\n",
        "import sys\n",
        "import tempfile\n",
        "import IPython\n",
        "from skimage.transform import rescale\n",
        "import matplotlib.pyplot as plt\n",
        "import subprocess\n",
        "import scipy.io as io\n",
        "import scipy\n",
        "# simplification de certains noms.\n",
        "pi=np.pi\n",
        "sin=np.sin\n",
        "exp=np.exp\n",
        "cos=np.cos\n",
        "log=np.log\n",
        "\n",
        "\n",
        "def joue_son(s,Fe=44100):\n",
        "  \"\"\"Joue un son et tient compte de la variable globale Notebook\n",
        "   Le son est normalisé et joué à la fréquence d'échantillonnage Fe qui vaut\n",
        "   44100 par défaut.\"\"\"\n",
        "  if len(s.shape)>1:\n",
        "    print(\"joue_son erreur: Le son n'est pas mono!\")\n",
        "    return\n",
        "  son=s.copy().astype(np.float32)\n",
        "  sm=(abs(son)).max()\n",
        "  if sm==0:\n",
        "    print(\"Attention: son uniformément nul!\")\n",
        "  else:\n",
        "    son/=sm # normalisation\n",
        "    son=son*(2**15-1)\n",
        "  son=son.astype(np.uint16)\n",
        "  play_obj = sa.play_buffer(son, 1, 2, Fe)\n",
        "  play_obj.wait_done()\n",
        "\n",
        "\n",
        "def viewimage(im, normalize=True,zoom=1,order=0,titre='',displayfilename=False):\n",
        "    imin=im.copy().astype(np.float32)\n",
        "    if len(im.shape)>2:\n",
        "      imin = rescale(imin, zoom, order=order, channel_axis=2)\n",
        "    else:\n",
        "      imin = rescale(imin, zoom, order=order)\n",
        "    if normalize:\n",
        "        imin-=imin.min()\n",
        "        if imin.max()>0:\n",
        "            imin/=imin.max()\n",
        "    else:\n",
        "        imin=imin.clip(0,255)/255\n",
        "    imin=(imin*255).astype(np.uint8)\n",
        "    filename=tempfile.mktemp(titre+'.png')\n",
        "    if displayfilename:\n",
        "        print (filename)\n",
        "    plt.imsave(filename, imin, cmap='gray')\n",
        "    IPython.display.display(IPython.display.Image(filename))\n",
        "\n",
        "def charge_image(fich):\n",
        "    a=np.float32(plt.imread(fich))\n",
        "    return a\n",
        "\n",
        "\n",
        "def lire_fichier_son(fichier):\n",
        "  f=io.wavfile.read(fichier)\n",
        "  if len(f[1].shape)>1:\n",
        "    out=f[1][:,0] #pas de stereo\n",
        "  else:\n",
        "    out=f[1]\n",
        "  Fe=f[0]\n",
        "  return (out,Fe) # renvoie un canal sonore (pas de   stereo) et la Freq. d'echant. Fe\n",
        "\n",
        "lien_donnees=None# \"https://www.telecom-paris.fr/perso/~ladjal/donnees_tp1_oasis.tgz\"\n",
        "fichier=\"donnees_tp1_oasis.tgz\"\n",
        "repdonnees=\"donnees_tp1_oasis/\"\n",
        "if not (lien_donnees is None):\n",
        "  subprocess.run([\"wget\",\"-O\",fichier,lien_donnees])\n",
        "  subprocess.run([\"tar\",\"-xvzf\",fichier])\n",
        "\n"
      ]
    },
    {
      "cell_type": "markdown",
      "metadata": {
        "id": "-ycGVwKPVKVV"
      },
      "source": [
        "# Ici on voit les définitions de tableaux\n",
        "Le texte commenté décrit le code en-dessous de lui"
      ]
    },
    {
      "cell_type": "code",
      "execution_count": 2,
      "metadata": {
        "id": "Emprs-n3VVg4"
      },
      "outputs": [
        {
          "name": "stdout",
          "output_type": "stream",
          "text": [
            "Le tableau m0 entier: premiere version\n",
            " [[0. 0. 0. 0. 0. 0.]\n",
            " [0. 0. 0. 0. 0. 0.]\n",
            " [0. 0. 0. 0. 0. 0.]\n",
            " [0. 0. 0. 0. 0. 0.]\n",
            " [0. 0. 0. 0. 0. 0.]]\n",
            "élément 0,0  vaut  0.0\n",
            "Le tableau m0 entier: deuxieme version\n",
            "  [[ 0.  0.  0.  0.  0.  0.]\n",
            " [ 0.  0.  0.  0.  0.  0.]\n",
            " [ 0.  0.  0. 56.  0.  0.]\n",
            " [ 0.  0.  0.  0.  0.  0.]\n",
            " [ 0.  0.  0.  0.  0.  0.]]\n",
            "tableaux de m1:\n",
            " [[1. 1. 1. 1. 1. 1.]\n",
            " [1. 1. 1. 1. 1. 1.]\n",
            " [1. 1. 1. 1. 1. 1.]\n",
            " [1. 1. 1. 1. 1. 1.]\n",
            " [1. 1. 1. 1. 1. 1.]]\n"
          ]
        }
      ],
      "source": [
        "# creation d'un tableau de zéros Il a 5 lignes et 6 colonnes (noter le couple de tauille (5,6))\n",
        "m0=np.zeros((5,6))\n",
        "print('Le tableau m0 entier: premiere version\\n',m0)\n",
        "# On accède à un élément en particulier par [i,j] où i est le numéro de ligne et j le numéro de colonne\n",
        "# comme pour les matrices en maths. SAUF que le prmier élément est indexé par zéro\n",
        "print ('élément 0,0  vaut ',m0[0,0])\n",
        "#on peut aussi accéder pour modifer\n",
        "m0[2,3]=56\n",
        "print('Le tableau m0 entier: deuxieme version\\n ',m0)\n",
        "# un tableau avec des 1\n",
        "m1=np.ones((5,6))\n",
        "\n",
        "print (\"tableaux de m1:\\n\",m1)\n"
      ]
    },
    {
      "cell_type": "markdown",
      "metadata": {
        "id": "XHD7XhvdWfDB"
      },
      "source": [
        "# Opérations élémentaires\n",
        "\n",
        "lire le code ligne par ligne et prédire le résultat, puis exécuter.\n",
        "\n",
        "1. Addition\n",
        "2. Multiplication\n",
        "3. Transposition\n",
        "4. Multiplication matricielle\n",
        "5. Inverse d'une matrice\n",
        "\n"
      ]
    },
    {
      "cell_type": "code",
      "execution_count": null,
      "metadata": {
        "id": "cmiyWl6V7m6H"
      },
      "outputs": [],
      "source": [
        "#somme\n",
        "msomme=m1+m0\n",
        "print ('la somme \\n',msomme)\n",
        "#multiplication point a point\n",
        "mmult=m1*m0\n",
        "print ('la multiplication\\n',mmult)\n",
        "\n",
        "#La transposition\n",
        "mtranspose=m0.T\n",
        "print ('la transposition de m0',mtranspose)\n",
        "print ('en praticulier mtranspose[3,2]',mtranspose[3,2])\n",
        "# A votre avis que va renvoyer m0[2,3] après cette  opération\n",
        "mtranspose[3,2]=45\n",
        "print ('m0 a été altéré par la modification de mtranspose',m0[2,3])\n",
        "\n",
        "# pour eviter de modifer le tableau d'originie in faut le copier\n",
        "mtransposesafe=(m0.copy()).T\n",
        "mtransposesafe[4,3]=78\n",
        "print ('m0 n''a pas été altéré par matransposesafe', m0[3,4])\n"
      ]
    },
    {
      "cell_type": "code",
      "execution_count": null,
      "metadata": {
        "id": "PI6FuESoZCrd"
      },
      "outputs": [],
      "source": [
        "# La multiplication matricielle se note avec un @\n",
        "# une seule des lignes suivante produira une erreur. Laquelle?  Commenter la ligne fautive avant d'excuter\n",
        "print(m0@m1)\n",
        "print(m1.T@m0)\n",
        "print(m0@m1.T)"
      ]
    },
    {
      "cell_type": "markdown",
      "metadata": {
        "id": "2kQLkjgPa-PP"
      },
      "source": [
        "# Implémenter la TFD sous forme d'une multiplication matricielle\n",
        "Pour un signal fini de taille N u_0...u_{N-1} la TFD de taille N donne N valeurs\n",
        "uchapeau(k)= somme (pour n=0..N-1, exp(-2 i PI k/N n) u_n\n",
        "\n",
        "On peut donc voir la TFD comme un opérateur linéaire de C^N dans C^N et donc une matrice carre dont la ligne numéro k (k commence à 0) vaut\n",
        "\n",
        "exp(-2 i PI k/N n)\n",
        "en python i s'écrit 1j"
      ]
    },
    {
      "cell_type": "code",
      "execution_count": null,
      "metadata": {
        "id": "EJp8Zsak8lZO"
      },
      "outputs": [],
      "source": [
        "#La fonction suivante et très peu efficace, elle sert juste de support pédagogique.\n",
        "# Elle prend un tableau sous forme de ligne  et renvoie sa TFD de la taille correspondant\n",
        "# à sa taille\n",
        "def TFD(u):\n",
        "  N=len(u) # len renvoie la longueur\n",
        "  ns=np.arange(0,N,1) # renvoie 0,1,2...N-1\n",
        "  ks=np.arange(0,N,1)\n",
        "  # on transforme ks en une matrice colonne\n",
        "  ks=ks.reshape((N,1))\n",
        "  # les ns deviennent une matrice ligne\n",
        "  ns=ns.reshape((1,N))\n",
        "  # Le produit d'une colonne et d'une ligne fait une matrice carre\n",
        "  # cette matrice va contenir k*n\n",
        "  ksns=ks@ns\n",
        "  # avant de prendre l'exponentielle on multiplie par -2 i PI /N\n",
        "  ksns=-2*1j*pi/N*ksns\n",
        "  # Enfin on a la matrice de la TFD\n",
        "  MTFD=exp(ksns)\n",
        "  # On applique cette matrice à l'entrée\n",
        "  out=MTFD@(u.reshape((-1,1))) #le -1 signifie la velaur nécessaire pour utiliser toutes les données de u\n",
        "  return out # on renvoie le résultat\n",
        "\n",
        "\n",
        "\n",
        "\n"
      ]
    },
    {
      "cell_type": "code",
      "execution_count": null,
      "metadata": {
        "id": "qNcVNOBSeHGO"
      },
      "outputs": [],
      "source": [
        "# Teste de la TFD\n",
        "print('La TFD de taille 3 de (1,1,1):\\n',TFD(np.ones((3))))\n",
        "# faire la convolution circulaire de (1,2,3) avec (4,5,6) (taille 3) et expliquer le résultat suivant\n",
        "tab123=np.zeros(3)\n",
        "tab456=np.zeros(3)\n",
        "tab123[0]=1\n",
        "tab123[1]=2\n",
        "tab123[2]=3\n",
        "\n",
        "tab456[0]=4\n",
        "tab456[1]=5\n",
        "tab456[2]=6\n",
        "# expliquer le résultat suivant (attention aux erreurs d'arrondi)\n",
        "print('LA TFD de 31 31 28 moins le produit de la TFD de 1 2 3 par la TFD de 4 5 6\\n',TFD(np.asarray([31,31,28]))-TFD(tab123)*TFD(tab456))\n"
      ]
    },
    {
      "cell_type": "markdown",
      "metadata": {
        "id": "AIN5hMuGg49O"
      },
      "source": [
        "# Écoute d'un son d'une certaine fréquence\n",
        "Le code suivant génère une note de musique à 440Hz\n",
        "Puis la joue\n"
      ]
    },
    {
      "cell_type": "code",
      "execution_count": null,
      "metadata": {
        "id": "UYoVyRYvhRHF"
      },
      "outputs": [],
      "source": [
        "TFD=np.fft.fft # On utilise la TFD de python qui est beaucoup plus efficace\n",
        "# EN particulier la TFD de'finie ci-dessus va planter avec une taille trop grande car elle génère explicitement une\n",
        "# grand matrcie carrée\n",
        "\n",
        "f0=440 # la frequence en Hz\n",
        "duree=2 # la duree en seconde\n",
        "Fe=44100 # on veut 44100 échantillons par seconde\n",
        "temps=np.arange(0,Fe*duree)/Fe # les 88200 intervalles de temps en secondes\n",
        "note=sin(2*pi*f0*temps)\n",
        "joue_son(note)"
      ]
    },
    {
      "cell_type": "code",
      "execution_count": null,
      "metadata": {
        "id": "iosYx7EOh6MO"
      },
      "outputs": [],
      "source": [
        "plt.plot(note[:400]) # on trace 400 echantillons de la note de musique\n"
      ]
    },
    {
      "cell_type": "markdown",
      "metadata": {
        "id": "NZhsmKcIiE1e"
      },
      "source": [
        "\n",
        "# Expliquer le resultat final de cette cellule\n",
        "\n",
        "En particulier modifier et N et prédire la nouvelle valeur de K"
      ]
    },
    {
      "cell_type": "code",
      "execution_count": null,
      "metadata": {
        "id": "PFnGDoGbiPDc"
      },
      "outputs": [],
      "source": [
        "N=8000\n",
        "morceau=note[0:N] # les N premier echantillons de la note\n",
        "TFDmorceau=TFD(morceau).reshape((-1))# le reshape pour avoir un vecteur monodimensionnal  et non de la forme (N,1)\n",
        "plt.plot(abs(TFDmorceau))\n",
        "# la fonction argmax renvoie la position du maximum d'un tableau\n",
        "K=(abs(TFDmorceau[:N//2])).argmax()# Pourquoi suffit-il de prendre la premiere moitiée (N//2)?\n",
        "# expliquer la valeur de K\n",
        "print ('le maximum de la TFD du morceau de taille 2000 a été trouvé en ',K)\n",
        "print (K/N*Fe/f0)\n"
      ]
    },
    {
      "cell_type": "markdown",
      "metadata": {
        "id": "H9oLoN_znQus"
      },
      "source": [
        "# BONUS: La FFT: TFD en N log(N) au lieu de N^2\n",
        "\n",
        "***Cette partie est facultative***\n",
        "\n",
        "La fonction suivante calcule la TFD en utilisant l'algorithme de la Transformée de Fourier rapide (FFT en anglais). La fonction suivante se restreint aux tailles de signaux en puissance de 2 mais la FFT existe aussi pour (toutes) les tailles de signaux.\n",
        "\n",
        " L'algorithme basique de la TFD revient à appliquer une matrice NxN à un vecteur de taille N. La complexité en N^2\n",
        "\n",
        "  La FFT a une complexité en N log(N).\n",
        "\n",
        "  En effet si P est le polynome de degre N-1 dont les coefficients sont les u_n\n",
        "  alors le cofficient k de la TFD vaut P(w^k) où w=exp(-2 i PI 1/N) est une racine primitive N-ieme de l'unite.\n",
        "\n",
        "   La TFD consiste à évaluer P en toutes les racines N-iemes de l'unité.\n",
        "\n",
        "  Or, si P(X)=Q(X^2)+X R(X^2) ou Q et R prennent les parties paires et impaire de P, on constate qu'il suffit de savoir évaluer Q et R aux racines N/2-ieme de l'unité pour ensuite retrouver P aux racines N-ieme en N opérations de reconstruction.\n",
        "\n",
        "   Or calculer Q (ou R) aux racines N/2-iemes de l'unite est une TFD de taille N/2 (comme N est une puissance de 2, on est dans une recurssion directe.\n",
        "\n",
        "   Le temps de calcul T(N) est\n",
        "   T(N)=2T(N/2)+N\n",
        "\n",
        "  On démontre que T est de l'ordre de N log(N) (log à base 2).\n"
      ]
    },
    {
      "cell_type": "code",
      "execution_count": null,
      "metadata": {
        "id": "MxfakhJZpAlz"
      },
      "outputs": [],
      "source": [
        "def myfft(u):\n",
        "  # on suppose que la taille est une puissance de 2 et on ne le vérifie pas.\n",
        "  N=len(u)\n",
        "  if N==1:\n",
        "    return u.astype(np.complex128) #la TFD de taille 1 est l'identité\n",
        "  else:\n",
        "    out=(0*u).astype(np.complex128)\n",
        "    Rpair=myfft(u[::2]) # les echantillons de 2 en 2 en commancant à 0\n",
        "    Rimpair=myfft(u[1::2]) # idem en commancant à 1\n",
        "    for k in range(N): # on parcourt les racines N-ieme\n",
        "      pos=k%(N//2) # w^(2k) est la k-ieme racine N/2-ieme, il faut faire un modulo si on depasse N/2\n",
        "      rack=exp(-2*1j*pi*k/N)\n",
        "      out[k]=Rpair[pos]+rack*Rimpair[pos]\n",
        "  return out"
      ]
    },
    {
      "cell_type": "code",
      "execution_count": null,
      "metadata": {
        "id": "-DP_VTszqcXJ"
      },
      "outputs": [],
      "source": [
        "N=128\n",
        "t=np.random.randn(N)# valaurs aletoires\n",
        "mafft=myfft(t) # notre algo de fft\n",
        "fftsys=np.fft.fft(t) # fft du système\n",
        "print (abs(mafft-fftsys).max()) # si le max de la difference est epsilonesque: Succes!"
      ]
    }
  ],
  "metadata": {
    "colab": {
      "provenance": []
    },
    "kernelspec": {
      "display_name": "Python 3",
      "name": "python3"
    },
    "language_info": {
      "codemirror_mode": {
        "name": "ipython",
        "version": 3
      },
      "file_extension": ".py",
      "mimetype": "text/x-python",
      "name": "python",
      "nbconvert_exporter": "python",
      "pygments_lexer": "ipython3",
      "version": "3.12.0"
    }
  },
  "nbformat": 4,
  "nbformat_minor": 0
}
