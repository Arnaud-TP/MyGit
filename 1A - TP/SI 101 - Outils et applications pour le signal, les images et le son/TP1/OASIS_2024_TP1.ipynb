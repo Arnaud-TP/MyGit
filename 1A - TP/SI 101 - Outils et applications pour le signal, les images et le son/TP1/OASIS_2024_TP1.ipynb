{
  "cells": [
    {
      "cell_type": "markdown",
      "metadata": {
        "id": "qoMrmi5JUDXw"
      },
      "source": [
        "# Ceci est la partie 1 des TPs d'OASIS.\n",
        "Le texte du TP est dans un fichier pdf et distribué par l'enseignant.\n",
        "\n",
        " techniquement: Lancer la première cellule sans y réfléchir.\n",
        " Les cellules d'après sont référencées en fonction des sections du TP et vous aident à réaliser ce qui est demandé par le sujet du TP.\n",
        "  \n"
      ]
    },
    {
      "cell_type": "code",
      "execution_count": 1,
      "metadata": {
        "colab": {
          "base_uri": "https://localhost:8080/"
        },
        "id": "bIoDRwWw3LUu",
        "outputId": "1d5c2de0-f81c-442a-f38b-32938f1ca60e"
      },
      "outputs": [],
      "source": [
        "import numpy as np\n",
        "import simpleaudio as sa\n",
        "from IPython.display import Audio,display\n",
        "import sys\n",
        "import tempfile\n",
        "import IPython\n",
        "from skimage.transform import rescale\n",
        "import matplotlib.pyplot as plt\n",
        "import subprocess\n",
        "import scipy.io as io\n",
        "import scipy\n",
        "# simplification de certains noms.\n",
        "pi=np.pi\n",
        "sin=np.sin\n",
        "exp=np.exp\n",
        "cos=np.cos\n",
        "log = np.log\n",
        "\n",
        "def joue_son(s,Fe=44100):\n",
        "  \"\"\" Le son est normalisé et joué à la fréquence d'échantillonnage Fe qui vaut\n",
        "   44100 par défaut.\"\"\"\n",
        "  if len(s.shape)>1:\n",
        "    print(\"joue_son erreur: Le son n'est pas mono!\")\n",
        "    return\n",
        "  son=s.copy().astype(np.float32)\n",
        "  sm=(abs(son)).max()\n",
        "  if sm==0:\n",
        "    print(\"Attention: son uniformément nul!\")\n",
        "  else:\n",
        "    son/=sm # normalisation\n",
        "    son=son*(2**15-1)\n",
        "  son=son.astype(np.uint16)\n",
        "  play_obj = sa.play_buffer(son, 1, 2, Fe)\n",
        "  play_obj.wait_done()\n",
        "\n",
        "\n",
        "def viewimage(im, normalize=True,zoom=1,order=0,titre='',displayfilename=False):\n",
        "    imin=im.copy().astype(np.float32)\n",
        "    if len(im.shape)>2:\n",
        "      imin = rescale(imin, zoom, order=order, channel_axis=2)\n",
        "    else:\n",
        "      imin = rescale(imin, zoom, order=order)\n",
        "    if normalize:\n",
        "        imin-=imin.min()\n",
        "        if imin.max()>0:\n",
        "            imin/=imin.max()\n",
        "    else:\n",
        "        imin=imin.clip(0,255)/255\n",
        "    imin=(imin*255).astype(np.uint8)\n",
        "    filename=tempfile.mktemp(titre+'.png')\n",
        "    if displayfilename:\n",
        "        print (filename)\n",
        "    plt.imsave(filename, imin, cmap='gray')\n",
        "    IPython.display.display(IPython.display.Image(filename))\n",
        "\n",
        "def charge_image(fich):\n",
        "    a=np.float32(plt.imread(fich))\n",
        "    return a\n",
        "\n",
        "\n",
        "def lire_fichier_son(fichier):\n",
        "  f=io.wavfile.read(fichier)\n",
        "  if len(f[1].shape)>1:\n",
        "    out=f[1][:,0] #pas de stereo\n",
        "  else:\n",
        "    out=f[1]\n",
        "  Fe=f[0]\n",
        "  return (out,Fe) # renvoie un canal sonore (pas de   stereo) et la Freq. d'echant. Fe\n",
        "\n",
        "#lien_donnees=\"https://www.telecom-paris.fr/perso/~ladjal/donnees_tp1_oasis.tgz\"\n",
        "fichier=\"donnees_tp1_oasis.tgz\"\n",
        "repdonnees=\"donnees_tp1_oasis/\"\n",
        "\n"
      ]
    },
    {
      "cell_type": "markdown",
      "metadata": {
        "id": "5lcnuIQHPpbs"
      },
      "source": [
        "# Lecture d'un son depuis le disque"
      ]
    },
    {
      "cell_type": "code",
      "execution_count": 2,
      "metadata": {
        "id": "cxx4vabpUPKc"
      },
      "outputs": [
        {
          "ename": "",
          "evalue": "",
          "output_type": "error",
          "traceback": [
            "\u001b[1;31mThe Kernel crashed while executing code in the current cell or a previous cell. \n",
            "\u001b[1;31mPlease review the code in the cell(s) to identify a possible cause of the failure. \n",
            "\u001b[1;31mClick <a href='https://aka.ms/vscodeJupyterKernelCrash'>here</a> for more info. \n",
            "\u001b[1;31mView Jupyter <a href='command:jupyter.viewOutput'>log</a> for further details."
          ]
        }
      ],
      "source": [
        "#exemple de lecture de son et le jouer.\n",
        "#%%\n",
        "fichier='handel.wav'\n",
        "#fichier='oiseau.wav'\n",
        "#fichier='marche.wav'\n",
        "\n",
        "son,Fe=lire_fichier_son(repdonnees+fichier)\n",
        "joue_son(son,Fe=Fe)\n"
      ]
    },
    {
      "cell_type": "markdown",
      "metadata": {
        "id": "-ycGVwKPVKVV"
      },
      "source": [
        "# Écoute d'un écho"
      ]
    },
    {
      "cell_type": "code",
      "execution_count": null,
      "metadata": {
        "id": "Emprs-n3VVg4"
      },
      "outputs": [],
      "source": [
        "# On utilise la fonction np.convolve pour convoluer le son avec un h d'écho\n",
        "\n",
        "Fe=44100\n",
        "temps_echo = 0.1 #choisir un temps d'echo, ici 0,1 seconde\n",
        "#temps_echo = 0.5 #  0,5 seconde\n",
        "#temps_echo = 0.8 #  0,8\n",
        "pos_echo=int(temps_echo*10) # Par quoi multiplier le temps pour obtenir une position dans Z\n",
        "h=np.zeros(pos_echo)\n",
        "h[0]=1\n",
        "h[-1]=0.8\n",
        "\n",
        "son_avec_echo=np.convolve(son,h)\n",
        "joue_son(son_avec_echo)\n",
        "\n",
        "\"\"\"\n",
        "Complexité du calcul réalisé :\n",
        "On a N = pos_echo    opérations pour la convolution par terme du fichier son\n",
        "Et la convolution est réalisée NT = Fe * Durée du son\n",
        "\n",
        "On a donc au total une complexité en O(N.NT), qui dépend de t1\n",
        "\n",
        "En prenant une transformée de Fourier Rapide de Fourier (ou FFT) en  O(NT.log(NT)), on aurait :\n",
        "conv(son,h) = FFT-1 (FFT(son).FFT(h))\n",
        "\"\"\"\n"
      ]
    },
    {
      "cell_type": "code",
      "execution_count": 2,
      "metadata": {
        "id": "BtjCVSI4oXtW"
      },
      "outputs": [
        {
          "ename": "",
          "evalue": "",
          "output_type": "error",
          "traceback": [
            "\u001b[1;31mThe Kernel crashed while executing code in the current cell or a previous cell. \n",
            "\u001b[1;31mPlease review the code in the cell(s) to identify a possible cause of the failure. \n",
            "\u001b[1;31mClick <a href='https://aka.ms/vscodeJupyterKernelCrash'>here</a> for more info. \n",
            "\u001b[1;31mView Jupyter <a href='command:jupyter.viewOutput'>log</a> for further details."
          ]
        }
      ],
      "source": [
        "# écoute d'une onde\n",
        "exp=np.exp\n",
        "i=1j\n",
        "pi=np.pi\n",
        "n=np.arange(0,100000)\n",
        "f=0.01\n",
        "u=exp(2*i*pi*f*n)\n",
        "joue_son(np.real(u),44100)\n",
        "joue_son(np.real(u),22050)\n",
        "\n"
      ]
    },
    {
      "cell_type": "code",
      "execution_count": null,
      "metadata": {
        "id": "FE3P3Y3RQn_P"
      },
      "outputs": [],
      "source": [
        "#Definition des filtres rejecteurs\n",
        "\n",
        "def rejette1(entree,f0,Fe):\n",
        "\n",
        "#valeur recommandee pour rho: au moins 0.9 et jamais plus de 1\n",
        "    lfilter=scipy.signal.lfilter\n",
        "    z0=exp(2*i*pi*f0/Fe); # position sur le cercle unite de la frequence a eliminer\n",
        "\n",
        "    sortie=lfilter([1 ,-z0],1,entree.astype(np.float32));\n",
        "\n",
        "    sortie=lfilter([1, -np.conj(z0)],1,sortie); #Le signal est reel, il faut donc eliminer -f0 aussi!\n",
        "\n",
        "\n",
        "    sortie=np.real(sortie);# En raison d'erreurs d'arrondi il peut subsister une partie imaginaire\n",
        "    return sortie\n",
        "\n",
        "\n",
        "def rejette2(entree,f0,Fe,rho):\n",
        "\n",
        "#valeur recommandee pour rho: au moins 0.9 et jamais plus de 1\n",
        "    lfilter=scipy.signal.lfilter\n",
        "    z0=exp(2*i*pi*f0/Fe); # position sur le cercle unite de la frequence a eliminer\n",
        "\n",
        "    sortie=lfilter([1 ,-z0],[1 ,-rho*z0],entree.astype(np.float32));\n",
        "\n",
        "    sortie=lfilter([1, -np.conj(z0)],[1 ,-rho*np.conj(z0)],sortie); #Le signal est reel, il faut donc eliminer -f0 aussi!\n",
        "\n",
        "    sortie=np.real(sortie);# En raison d'erreurs d'arrondi il peut subsister une partie imaginaire\n",
        "    return sortie\n",
        "\n",
        "def norme2(X): # renvoie la norme 2 d'une variable. Utile pour calculer des erreurs\n",
        "  return ((((X).astype(np.float32))**2).sum())**0.5\n",
        "\n",
        "\n"
      ]
    },
    {
      "cell_type": "code",
      "execution_count": null,
      "metadata": {
        "id": "wHyxYsjTQzF2"
      },
      "outputs": [],
      "source": [
        "# Ici on ajoute un son parasite et on ecoute\n",
        "f0=1261\n",
        "y=son[:4*Fe] # le son de départ doit contenir au moins 4 secondes (sinon changer)\n",
        "n=np.arange(len(y)); #le temps discret que dure le signal y\n",
        "sonbruite=y+0.5*(abs(y).max())*np.cos(2*pi*f0/Fe*n); #on ajoute une onde parasite\n",
        "joue_son(sonbruite,Fe=Fe)\n",
        "\n"
      ]
    },
    {
      "cell_type": "code",
      "execution_count": null,
      "metadata": {
        "id": "4N2Qq4CZpy1L"
      },
      "outputs": [],
      "source": [
        "# ecoute et evaluation de rejette1\n",
        "sortie1=rejette1(sonbruite,f0,Fe)\n",
        "joue_son(sortie1,Fe)\n",
        "erreur1=norme2(sortie1-y)/norme2(y)\n",
        "print (\"erreur relative après rejette 1 en poucentage\",erreur1*100)"
      ]
    },
    {
      "cell_type": "code",
      "execution_count": null,
      "metadata": {
        "id": "_CO3JlRfqMzI"
      },
      "outputs": [],
      "source": [
        "# ecoute et evaluation de rejette2\n",
        "sortie2=rejette2(sonbruite,f0,Fe,0.999)\n",
        "joue_son(sortie2,Fe)\n",
        "erreur2=norme2(sortie2-y)/norme2(y)\n",
        "print (\"erreur relative après rejette 2 en poucentage\",erreur2*100)"
      ]
    }
  ],
  "metadata": {
    "colab": {
      "provenance": []
    },
    "kernelspec": {
      "display_name": "Python 3",
      "name": "python3"
    },
    "language_info": {
      "codemirror_mode": {
        "name": "ipython",
        "version": 3
      },
      "file_extension": ".py",
      "mimetype": "text/x-python",
      "name": "python",
      "nbconvert_exporter": "python",
      "pygments_lexer": "ipython3",
      "version": "3.12.0"
    }
  },
  "nbformat": 4,
  "nbformat_minor": 0
}
