{
 "cells": [
  {
   "cell_type": "markdown",
   "id": "89f6f5cc-e740-4a4c-aebf-fd02941b9979",
   "metadata": {},
   "source": [
    "# Optimization for Machine Learning: Computer Lab 1\n",
    "\n",
    "## 2. Preprocessing the data\n",
    "\n",
    "Here, we load the data, standardize it, and set it in the appropriate shape for performing linear regression. You do not need to complete anything in this section; however it is important that you understand what the code is doing. See the pdf instructions for more details."
   ]
  },
  {
   "cell_type": "code",
   "execution_count": 16,
   "id": "47c5f011-294c-4aae-ad6d-ad866077e794",
   "metadata": {},
   "outputs": [],
   "source": [
    "import numpy as np\n",
    "import matplotlib.pyplot as plt"
   ]
  },
  {
   "cell_type": "code",
   "execution_count": 11,
   "id": "86e56b10-a3a7-4409-8bec-99330823b56c",
   "metadata": {},
   "outputs": [],
   "source": [
    "# Loading data\n",
    "data_matrix_train, COP_train, data_matrix_test, COP_test, names = np.load('data_center_data_matrix.npy', allow_pickle=True)"
   ]
  },
  {
   "cell_type": "code",
   "execution_count": 12,
   "id": "4e5ab66b-88b9-48d4-92ae-78898c3407f3",
   "metadata": {},
   "outputs": [],
   "source": [
    "# centering and normalizing the matrix\n",
    "matrix_mean = np.mean(data_matrix_train, axis=0)\n",
    "M = data_matrix_train - matrix_mean\n",
    "\n",
    "matrix_std = np.std(M, axis=0)\n",
    "M = M / matrix_std"
   ]
  },
  {
   "cell_type": "code",
   "execution_count": 13,
   "id": "5375e38d-60ca-4a56-96d7-fe556916bd07",
   "metadata": {},
   "outputs": [
    {
     "data": {
      "text/plain": [
       "(722, 892)"
      ]
     },
     "execution_count": 13,
     "metadata": {},
     "output_type": "execute_result"
    }
   ],
   "source": [
    "M.shape"
   ]
  },
  {
   "cell_type": "code",
   "execution_count": 14,
   "id": "b78bed44-51b7-499c-83c3-7d31d137cd96",
   "metadata": {},
   "outputs": [],
   "source": [
    "# Building the corresponding matrices A,b for linear regression\n",
    "A = np.hstack([M, np.ones((M.shape[0],1)), -(M.T * COP_train[:,3]).T])\n",
    "b = COP_train[:,3]\n",
    "\n",
    "# Building the same matrices for the test set\n",
    "M_test = (data_matrix_test - matrix_mean) / matrix_std\n",
    "A_test = np.hstack([M_test, np.ones((M_test.shape[0],1)), -(M_test.T * COP_test[:,3]).T])\n",
    "b_test = COP_test[:,3]\n",
    "\n",
    "d = A.shape[1]"
   ]
  },
  {
   "cell_type": "markdown",
   "id": "5fc974f0-0eb1-46db-af33-b27f232bc4ec",
   "metadata": {},
   "source": [
    "## 3. Ordinary least squares\n",
    "\n",
    "We now wish to solve the problem\n",
    "$$\n",
    "\\min_{w \\in \\mathbb{R}^d} \\frac 12 \\|Aw-b\\|_2^2\n",
    "$$"
   ]
  },
  {
   "cell_type": "markdown",
   "id": "257e394e",
   "metadata": {},
   "source": [
    "# Question 3.1 : \n",
    "\n",
    "We have $(Aw)_t = \\tilde{x}(t)^Tw_1+w_0-y(t)\\times \\tilde{x}(t)^Tw_2$ for all $t$ and $b_y = y(t)$\n",
    "\n",
    "Show that if $Aw = b$, then $y(t) = \\frac{w_1^T\\tilde{x}(t)+w_0}{w_2^T\\tilde{x}(t)+1}$\n",
    "\n",
    "___\n",
    "\n",
    "$y(t) = b_t = \\tilde{x}(t)^Tw_1 + w_0 - y(t) \\times \\tilde{x}(t)^Tw_2$\n",
    "\n",
    "$y(t)[1 + \\tilde{x}(t)^Tw_2] = \\tilde{x}(t)^Tw_1 + w_0$\n",
    "\n",
    "If $ 1 + \\tilde{x}(t)^Tw_2 \\neq 0$ :\n",
    "\n",
    "$y(t) = \\frac{\\tilde{x}(t)^Tw_1 + w_0}{1 + \\tilde{x}(t)^Tw_2}$\n",
    "\n",
    "___"
   ]
  },
  {
   "cell_type": "code",
   "execution_count": 25,
   "id": "47c243e3-5aab-4373-b10f-749278195663",
   "metadata": {},
   "outputs": [
    {
     "name": "stderr",
     "output_type": "stream",
     "text": [
      "/tmp/ipykernel_160850/400330731.py:4: FutureWarning: `rcond` parameter will change to the default of machine precision times ``max(M, N)`` where M and N are the input matrix dimensions.\n",
      "To use the future default and silence this warning we advise to pass `rcond=None`, to keep using the old, explicitly pass `rcond=-1`.\n",
      "  w_least_squares,_,_,_ = np.linalg.lstsq(A,b)\n"
     ]
    }
   ],
   "source": [
    "## Question 3.2: solve with the numpy least squares solver\n",
    "\n",
    "\n",
    "w_least_squares,_,_,_ = np.linalg.lstsq(A,b)"
   ]
  },
  {
   "cell_type": "code",
   "execution_count": 56,
   "id": "ac547051-72eb-4973-a5bc-710d46189afe",
   "metadata": {},
   "outputs": [
    {
     "name": "stdout",
     "output_type": "stream",
     "text": [
      "Test error for least squares solution :  780.8984793524318\n"
     ]
    }
   ],
   "source": [
    "## Question 3.3\n",
    "## np.linalg.norm is the l2 norm\n",
    "\n",
    "N = A_test.shape[0]\n",
    "test_error = ( (np.linalg.norm(A_test@w_least_squares - b_test))**2) / N\n",
    "print(\"Test error for least squares solution : \", test_error)"
   ]
  },
  {
   "cell_type": "markdown",
   "id": "79e96422-8dcf-459f-ac5a-6bf1553df7c7",
   "metadata": {},
   "source": [
    "# Question 3.4 : \n",
    "\n",
    "### Adding $\\ell_2$ regularization\n",
    "\n",
    "In order to improve the performance on the test set, we add $\\ell_2$ regularization:\n",
    "\n",
    "$$\n",
    "\\min_{w \\in \\mathbb{R}^d} \\frac 12 \\|Aw-b\\|_2^2 + \\frac \\lambda 2 \\|w\\|_2^2\n",
    "$$ \n",
    "\n",
    "where $\\lambda = 10^4$\n",
    "\n",
    "Calculate the gradient of $f_1 (w) = \\frac{1}{2}\\|Aw-b\\|^2 + \\frac{\\lambda}{2}\\|w\\|^2$\n",
    "\n",
    "___\n",
    "\n",
    "$f_1 (w) = \\frac{1}{2}\\|Aw-b\\|^2 + \\frac{\\lambda}{2}\\|w\\|^2$\n",
    "\n",
    "$f_1 (w) = \\frac{1}{2} \\langle Aw-b, Aw-b \\rangle + \\frac{\\lambda}{2}\\langle w, w \\rangle$\n",
    "\n",
    "$f_1 (w) = \\frac{1}{2}(w^TA^T-b^T)(Aw-b) + \\frac{\\lambda}{2} w^Tw $\n",
    "\n",
    "$f_1 (w) = \\frac{1}{2}(w^TA^TAw-b^TAw-w^TA^Tb + b^Tb) + \\frac{\\lambda}{2} w^Tw $\n",
    "\n",
    "$\\nabla f_1 (w) = (A^TA+\\lambda I_d)w - A^Tb $\n",
    "\n",
    "___\n",
    "\n",
    "Is the function convex ?\n",
    "\n",
    "___\n",
    "\n",
    "$\\nabla^2 f_1 (w) = A^TA+\\lambda I_d $\n",
    "\n",
    "To show that the function $f_1$ is convex, we need to show that for all $x \\in \\mathbb{R}^d$ :\n",
    "\n",
    "$x^T \\nabla^2 f_1 (w) x \\geq 0$\n",
    "\n",
    "$x^T \\nabla^2 f_1 (w) x = x^T (A^TA+\\lambda I_d) x = \\langle Ax, Ax \\rangle + \\lambda\\langle x, x \\rangle$\n",
    "\n",
    "$x^T \\nabla^2 f_1 (w) x = \\|Ax\\|^2 + \\lambda\\|x\\|^2 \\geq 0$\n",
    "\n",
    "$f_1$ is convex.\n",
    "___"
   ]
  },
  {
   "cell_type": "markdown",
   "id": "55358008",
   "metadata": {},
   "source": [
    "# Question 3.5 :\n",
    "\n",
    "Implement gradient descent to minimize $f_1$. What step size are you choosing ? How many iterations are needed to get $w_k$ such that $\\|\\nabla f(w_k)\\| \\leq 1$ ?\n",
    "\n",
    "Step size $\\gamma$ computation :\n",
    "\n",
    "The step size needs to verify to $\\gamma \\leq \\frac{1}{L}$\n",
    "\n",
    "With $L$ being the Lipschitz constant of $\\nabla f_1$\n",
    "\n",
    "$\\|\\nabla f_1(x) - \\nabla f_1(y)\\| = \\|(A^TA+\\lambda I_d)x - A^Tb - ((A^TA+\\lambda I_d)y - A^Tb)\\| $\n",
    "\n",
    "$\\|\\nabla f_1(x) - \\nabla f_1(y)\\| = \\|(A^TA+\\lambda I_d)(x-y)\\|$\n",
    "\n",
    "$\\|\\nabla f_1(x) - \\nabla f_1(y)\\| \\leq \\|(A^TA+\\lambda I_d)\\| \\|(x-y)\\|$\n",
    "\n",
    "We take $\\gamma = \\|(A^TA+\\lambda I_d)\\|^{-1}$\n"
   ]
  },
  {
   "cell_type": "code",
   "execution_count": null,
   "id": "d5836565",
   "metadata": {},
   "outputs": [],
   "source": [
    "lambda_l2 = 1e4"
   ]
  },
  {
   "cell_type": "code",
   "execution_count": 69,
   "id": "e0e52bea-55d3-4a3c-8758-c8214eaa64e8",
   "metadata": {},
   "outputs": [],
   "source": [
    "# Question 3.5\n",
    "def f(w):\n",
    "    return 0.5*( np.linalg.norm(A@w - b)**2 ) + 0.5*lambda_l2*( np.linalg.norm(w)**2 )\n",
    "\n",
    "def grad_f(w):\n",
    "    return np.transpose(A)@(A@w - b) + lambda_l2*w\n",
    "\n",
    "def gradient_descent(func, w0, gamma, max_iter):\n",
    "    w = w0.copy()\n",
    "    \n",
    "    f_values = []\n",
    "    gradient_norms = []\n",
    "\n",
    "    for t in range(max_iter):\n",
    "        w = w - gamma*grad_f(w)\n",
    "        \n",
    "        f_values.append(f(w))\n",
    "        gradient_norms.append(np.linalg.norm(grad_f(w)))\n",
    "        \n",
    "    return w, f_values, gradient_norms"
   ]
  },
  {
   "cell_type": "markdown",
   "id": "08b45d85-6ed0-4cc9-9759-69ee4cbb08f1",
   "metadata": {},
   "source": [
    "For finding the appropriate step size range, we need to estimate the Lipschitz constant of the gradient."
   ]
  },
  {
   "cell_type": "code",
   "execution_count": 73,
   "id": "92be2760-b2c4-408b-8c3c-309409c1e12c",
   "metadata": {},
   "outputs": [
    {
     "name": "stdout",
     "output_type": "stream",
     "text": [
      "(3502543.105358818+0j)\n"
     ]
    }
   ],
   "source": [
    "## Compute the higher eigenvalue to estimate L\n",
    "L = max( np.linalg.eig(np.transpose(A)@A + lambda_l2*np.eye(d))[0] )\n",
    "print(L)"
   ]
  },
  {
   "cell_type": "code",
   "execution_count": 78,
   "id": "b911cf31-5f36-4caf-b18d-cb46c3f4eea1",
   "metadata": {},
   "outputs": [],
   "source": [
    "# COMPLETE HERE\n",
    "w0 = np.zeros(d) #arbitrary point to begin the gradient descent\n",
    "step_size = 1/abs(L)\n",
    "max_iter = 1000\n",
    "\n",
    "w_GD, f_values_GD, gradient_norms_GD = gradient_descent(f, w0, step_size, max_iter)"
   ]
  },
  {
   "cell_type": "markdown",
   "id": "b213c567-b03f-4351-8bf4-21d1f2c529b0",
   "metadata": {},
   "source": [
    "We now compute the evolution of function values and gradient norm. "
   ]
  },
  {
   "cell_type": "code",
   "execution_count": 79,
   "id": "0ec7e77c-d8ef-40b2-b490-37a04d929d39",
   "metadata": {},
   "outputs": [
    {
     "data": {
      "text/plain": [
       "Text(0, 0.5, 'Function values')"
      ]
     },
     "execution_count": 79,
     "metadata": {},
     "output_type": "execute_result"
    },
    {
     "data": {
      "image/png": "[encoded data removed]",
      "text/plain": [
       "<Figure size 1200x400 with 2 Axes>"
      ]
     },
     "metadata": {},
     "output_type": "display_data"
    }
   ],
   "source": [
    "# let us plot the result \n",
    "fig, axes = plt.subplots(nrows=1, ncols=2, figsize=(12, 4))\n",
    "\n",
    "axes[0].plot(gradient_norms_GD)\n",
    "axes[0].semilogy()\n",
    "axes[0].set_ylabel(\"Gradient norm\")\n",
    "\n",
    "axes[1].plot(f_values_GD)\n",
    "axes[1].set_ylabel(\"Function values\")"
   ]
  },
  {
   "cell_type": "code",
   "execution_count": 80,
   "id": "996f65a6-4a51-49be-9398-16d77b3dfd8d",
   "metadata": {},
   "outputs": [
    {
     "name": "stdout",
     "output_type": "stream",
     "text": [
      "Test error for l2 penalized solution :  59.863982677288064\n"
     ]
    }
   ],
   "source": [
    "# Question 3.6\n",
    "\n",
    "test_error_l2 = ( (np.linalg.norm(A_test@w_GD - b_test))**2) / N\n",
    "print(\"Test error for l2 penalized solution : \", test_error_l2)"
   ]
  },
  {
   "cell_type": "markdown",
   "id": "817f6aba-fb0f-4ba2-8fa2-2e6279947610",
   "metadata": {},
   "source": [
    "What do you observe ?\n",
    "\n",
    "We observe that when chosing a good $w0$ and a sufficient amount of iterations, the error for l2 penalized solution is lower than the error we computed with least squares."
   ]
  },
  {
   "cell_type": "markdown",
   "id": "8373ae96-3b06-433a-8d53-ac096c7f5fd7",
   "metadata": {},
   "source": [
    "For a faster algorithm, we could implement accelerated gradient descent."
   ]
  },
  {
   "cell_type": "markdown",
   "id": "21d4b5f8-70e0-4261-8675-3427fa548a90",
   "metadata": {},
   "source": [
    "What do you observe regarding the convergence speed ?"
   ]
  },
  {
   "cell_type": "markdown",
   "id": "1a8d11cb-4fdf-4e35-b1b6-9f196492e4ca",
   "metadata": {},
   "source": [
    "## 4. Adding $\\ell_1$ regularization (Lasso)\n",
    "\n",
    "We now solve \n",
    "\n",
    "$$\n",
    "\\min_{w \\in \\mathbb{R}^d} \\frac 12 \\|Aw-b\\|_2^2 + \\lambda \\|w\\|_1\n",
    "$$"
   ]
  },
  {
   "cell_type": "markdown",
   "id": "66929326",
   "metadata": {},
   "source": [
    "# Question 4.1 :\n",
    "\n",
    "Write the objective function as $F_2 = f_2 + g_2$ where $f_2$ is differentiable and the proximal operator of $g_2$ is easy to compute. Recall the formula for $prox_{g2}$. Calculate the gradient of $f_2$\n",
    "\n",
    "___\n",
    "\n",
    "We have $F_2 = \\frac{1}{2}\\|Aw-b\\|_2^2 + \\lambda\\|w\\|_1$\n",
    "\n",
    "We know that $\\|w\\|_1$ is not differentiable on 0, so we identify :\n",
    "\n",
    "$f_2(w) = \\frac{1}{2}\\|Aw-b\\|_2^2$\n",
    "\n",
    "$g_2(w) = \\lambda\\|w\\|_1$\n",
    "\n",
    "___\n",
    "\n",
    "$prox_{g2}(x) = \\argmin_{w \\in \\mathbb{R}^d} g_2(w) + \\frac{1}{2} \\|x-w\\|^2$\n",
    "\n",
    "$prox_{g2}(x) = \\argmin_{w \\in \\mathbb{R}^d} \\lambda\\|w\\|_1 + \\frac{1}{2} \\|x-w\\|^2$\n",
    "\n",
    "To compute $prox_{g2}$, we will use some properties :\n",
    "\n",
    "If $g_2$ is differentiable at x and convex :\n",
    "\n",
    "$$\\partial {g_2}(x) = {\\nabla f(x)}$$\n",
    "\n",
    "Fermat's rule :\n",
    "\n",
    "$$p \\in \\argmin(f) \\implies 0 \\in \\partial {f}(p)$$\n",
    "\n",
    "We get that (exercise session 3 : proximal gradient descent, exercise 1) :\n",
    "\n",
    "$prox_{g2}(x) = \\sum_{i=1}^{d} prox_{g2}(x_i)e_i$\n",
    "\n",
    "And :\n",
    "\n",
    "$prox_{g2}(x_i) = \\text{sign}(x_i)\\max(0,|x_i|-\\lambda)$\n",
    "\n",
    "___\n",
    "\n",
    "We now compute the gradient of $f_2$ :\n",
    "\n",
    "$f_2 (w) = \\frac{1}{2}\\|Aw-b\\|_2^2$\n",
    "\n",
    "$f_2 (w) = \\frac{1}{2} \\langle Aw-b, Aw-b \\rangle = \\frac{1}{2} (w^TA^TAw-b^TAw-w^TA^Tb + b^Tb)$\n",
    "\n",
    "$\\nabla f_2 (w) = A^TAw - A^Tb$\n",
    "\n",
    "\n"
   ]
  },
  {
   "cell_type": "code",
   "execution_count": 86,
   "id": "80b1dd18-dcab-4647-ba26-a7d5267f77fc",
   "metadata": {},
   "outputs": [],
   "source": [
    "lambda_l1 = 1e3\n",
    "\n",
    "def l1_norm(x):\n",
    "    s = 0\n",
    "    for xi in x:\n",
    "        s += abs(xi)\n",
    "    return s\n",
    "\n",
    "## Question 4.2\n",
    "def prox_l1(x, mu = 1.):\n",
    "    \"\"\"compute the proximal operator of mu * |x|_1\n",
    "    \"\"\"\n",
    "    n = len(x)\n",
    "    X = np.zeros(n)\n",
    "    for i in range(n):\n",
    "        X[i] = np.sign(x[i])* (max(0,abs(x[i]) - (mu) ))\n",
    "    return X\n",
    "\n",
    "def proximal_gradient_descent(func, w0, gamma, max_iter):\n",
    "    w = w0.copy()\n",
    "\n",
    "    f_values = []\n",
    "    gradient_norms = []\n",
    "\n",
    "    for t in range(max_iter):\n",
    "        w = prox_l1( w - gamma*grad_f(w) ,lambda_l1*gamma)\n",
    "        \n",
    "        f_values.append(f(w))\n",
    "        gradient_norms.append(np.linalg.norm(grad_f(w)))\n",
    "        \n",
    "    return w, f_values, gradient_norms"
   ]
  },
  {
   "cell_type": "markdown",
   "id": "ba2dc779",
   "metadata": {},
   "source": [
    "We take as a stopping criteria the number of iterations.\n",
    "We could take another criteria like the current norm of the gradient so we stop when the descent is stuck."
   ]
  },
  {
   "cell_type": "code",
   "execution_count": 87,
   "id": "013e8e9d-3974-480c-8648-3dcf8b756bb7",
   "metadata": {},
   "outputs": [],
   "source": [
    "w0 = np.zeros(d) #arbitrary point to begin the gradient descent\n",
    "step_size = 1/abs(L)\n",
    "max_iter = 1000\n",
    "\n",
    "w_PGD, f_values_PGD, gradient_norms_PGD = proximal_gradient_descent(f, w0, step_size, max_iter)"
   ]
  },
  {
   "cell_type": "code",
   "execution_count": 88,
   "id": "0fa86b3b-bf34-4d0d-ab8e-c609fb3b530c",
   "metadata": {},
   "outputs": [
    {
     "name": "stdout",
     "output_type": "stream",
     "text": [
      "Test error for l1 penalized solution :  17.45256849724126\n"
     ]
    }
   ],
   "source": [
    "# Question 4.3\n",
    "\n",
    "test_error_l1 = ( (np.linalg.norm(A_test@w_PGD - b_test))**2) / N\n",
    "print(\"Test error for l1 penalized solution : \", test_error_l1)"
   ]
  },
  {
   "cell_type": "markdown",
   "id": "41008a27",
   "metadata": {},
   "source": [
    "The error is reduced compared to the l2 regulation. Thanks to the question 4.1, we can compute the prox fast enough and get a much better result."
   ]
  },
  {
   "cell_type": "markdown",
   "id": "d4485f91-4e46-462f-859c-ebfb40890115",
   "metadata": {},
   "source": [
    "Compare with the previous test errors. What do you observe?"
   ]
  },
  {
   "cell_type": "code",
   "execution_count": 89,
   "id": "94168091-be37-4878-807d-9ba9b3730046",
   "metadata": {},
   "outputs": [
    {
     "data": {
      "text/plain": [
       "<matplotlib.legend.Legend at 0x7eff6a06b650>"
      ]
     },
     "execution_count": 89,
     "metadata": {},
     "output_type": "execute_result"
    },
    {
     "data": {
      "image/png": "[encoded data removed]",
      "text/plain": [
       "<Figure size 640x480 with 1 Axes>"
      ]
     },
     "metadata": {},
     "output_type": "display_data"
    }
   ],
   "source": [
    "# Let us examine the solution\n",
    "plt.plot(w_GD, label = \"l2 solution\")\n",
    "plt.plot(w_PGD, label = \"l1 solution\")\n",
    "plt.legend()"
   ]
  },
  {
   "cell_type": "code",
   "execution_count": null,
   "id": "b3f14129-9cd8-42af-9f4e-a892bf590135",
   "metadata": {},
   "outputs": [],
   "source": [
    "# Question 4.4\n",
    "def proximal_gradient_descent_linesearch(func, w0, gamma, max_iter):\n",
    "    w = w0\n",
    "    gamma_plus = gamma\n",
    "\n",
    "    f_values = []\n",
    "    gradient_norms = []\n",
    "    for k in range(max_iter):\n",
    "        gradw = grad_f(w)\n",
    "        wplus = w - gamma_plus*gradw\n",
    "        if func(wplus) <= func(w) + np.dot(np.transpose(gradw),wplus-w) + (0.5*gamma_plus)*np.norm(wplus-w)**2 :\n",
    "            w = wplus\n",
    "            gamma = 2*gamma_plus\n",
    "        else:\n",
    "            gamma_plus = 0.5*gamma_plus\n",
    "        \n",
    "        f_values.append(f(w))\n",
    "        gradient_norms.append(np.linalg.norm(grad_f(w)))\n",
    "    return w, f_values, gradient_norms\n"
   ]
  }
 ],
 "metadata": {
  "kernelspec": {
   "display_name": "Python 3",
   "language": "python",
   "name": "python3"
  },
  "language_info": {
   "codemirror_mode": {
    "name": "ipython",
    "version": 3
   },
   "file_extension": ".py",
   "mimetype": "text/x-python",
   "name": "python",
   "nbconvert_exporter": "python",
   "pygments_lexer": "ipython3",
   "version": "3.12.0"
  }
 },
 "nbformat": 4,
 "nbformat_minor": 5
}
