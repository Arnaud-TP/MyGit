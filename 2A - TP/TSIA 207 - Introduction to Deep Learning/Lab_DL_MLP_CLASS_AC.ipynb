{
  "cells": [
    {
      "cell_type": "markdown",
      "metadata": {
        "id": "WpYK9fIlyZCq"
      },
      "source": [
        "# Lab Deep Learning / Multi-Layer Perceptron for classification / in pytorch\n",
        "\n",
        "### Lab session recap : A.C.\n",
        "\n",
        "## Objective:\n",
        "\n",
        "The objective of this lab is to develop a two hidden layers MLP to perform image **classification**.\n",
        "\n",
        "While the previous Lab ```Lab Deep Learning / Multi-Layer Perceptron for regression / in pytorch``` focused on how to write a Neural Network, the present Lab focuses on managing datasets and splitting training and testing .\n",
        "\n",
        "We will use MNIST for the image dataset.\n",
        "\n",
        "## Documentation:\n",
        "- NN: https://pytorch.org/docs/stable/nn.html\n",
        "- Autograd: https://pytorch.org/docs/stable/autograd.html\n",
        "- Optim: https://pytorch.org/docs/stable/optim.html\n"
      ]
    },
    {
      "cell_type": "code",
      "execution_count": 40,
      "metadata": {
        "id": "h6o3NZfNyZCt"
      },
      "outputs": [],
      "source": [
        "import torch\n",
        "import torch.nn as nn\n",
        "import torch.nn.functional as F\n",
        "import torch.optim as optim\n",
        "from torchvision import datasets, transforms\n",
        "import matplotlib.pyplot as plt"
      ]
    },
    {
      "cell_type": "markdown",
      "metadata": {
        "id": "Vy7u-IVkyZCu"
      },
      "source": [
        "## Data management\n",
        "\n",
        "It is common to separate the datasets into\n",
        "- a **training** part (used to find the network parameters which minimize the loss)\n",
        "- a **test part** (used to estimate the performances).\n",
        "\n",
        "The training part can itself be further splitted into a training and a validation part (the validation part is then used to fix the hyper-parameters of the system).\n",
        "\n",
        "When performing ```batch gradient descent``` the whole training set is used to compute the gradients (which itself is used for the parameter optimization).\n",
        "However when performing ```stochastic or mini-batch gradient descent``` only a part of the training data is used at each iteration.\n",
        "\n",
        "We therefore needs to write all the necessary code, to get these mini-batches of data, be sure that all data have been seen, potentially randomize the order of appearance of these data and potentially perform some modifications of the data before giving them to the network.\n",
        "\n",
        "Fortunatelly, pytorch has associated to it (but not included in it) a nice package (```torchvision```) which allows to do all that for us.\n",
        "\n",
        "This package allows to perform these process for any datasets but has a pre-tuned method for the ```MNIST```datasets.\n",
        "\n",
        "### Datasets\n",
        "\n",
        "In the following we will us ```datasets.MNIST``` to load the train and test data.\n",
        "\n",
        "We need to tell it to download the data, where to dowload them and if we want the training or the testing part of it.\n",
        "\n",
        "We then tell it if we want to apply some transformations to the data.\n",
        "\n",
        "For this lab, we will transform the data by\n",
        "- 1) transforming them to torch tensors (using ```transforms.ToTensor()```); since by default they are not torch tensors\n",
        "- 2) normalize them to zero mean and unit standard deviation (using ```transforms.Normalize()```).\n",
        "\n",
        "It is of course possible to also apply data augmentation.\n",
        "\n",
        "Since we have several transforms to be performed, we will compose them using ```transforms.Compose([transform1, transform2])```\n",
        "\n",
        "The corresponding datasets is a class which contains the pairs of [input tensors $X$, corresponding ground-truth label $y$].\n",
        "\n",
        "### Dataloader\n",
        "\n",
        "Another nice pytorch facility is the ```Dataloader``` which transforms the dataset to be used as an iterator (i.e. within ```for data in myDataloader: ```).\n",
        "\n",
        "Moreover, ```Dataloader``` allows to specify\n",
        "- how many data will be provided each time it is called (```batch_size```)\n",
        "- if the order of appearance of the data with be random (````shuffle````).\n",
        "\n",
        "We therefore convert our datasets (train and test) to ```DataLoader``` that are directly used as iterator during the iterations (it DataLoader manage directly the mini-batch and shuffling)."
      ]
    },
    {
      "cell_type": "code",
      "execution_count": null,
      "metadata": {
        "id": "zsSEvakPyZCv"
      },
      "outputs": [],
      "source": [
        "train_set = datasets.MNIST('data',download=True, train=True, transform=transforms.Compose([transforms.ToTensor(), transforms.Normalize(0,1)]))\n",
        "train_loader = torch.utils.data.DataLoader(train_set, batch_size=64, shuffle=True)\n",
        "test_set = datasets.MNIST('data', download=True, train=False, transform=transforms.Compose([transforms.ToTensor(), transforms.Normalize(0,1)]))\n",
        "test_loader = torch.utils.data.DataLoader(test_set, batch_size=64, shuffle=True)"
      ]
    },
    {
      "cell_type": "code",
      "execution_count": 42,
      "metadata": {
        "colab": {
          "base_uri": "https://localhost:8080/",
          "height": 240
        },
        "id": "FFuEXr0tyZCw",
        "outputId": "59ad5329-e7b3-4dd3-f0f7-79bbbcfde7f7"
      },
      "outputs": [
        {
          "name": "stdout",
          "output_type": "stream",
          "text": [
            "dataset type: <class 'torchvision.datasets.mnist.MNIST'>\n",
            "dataset size: 60000\n",
            "X data: torch.Size([1, 28, 28])\n",
            "y data: 5\n"
          ]
        }
      ],
      "source": [
        "print(\"dataset type: {}\".format(type(train_set)))\n",
        "print(\"dataset size: {}\".format(len(train_set)))\n",
        "print(\"X data: {}\".format(train_set[0][0].size()))\n",
        "print(\"y data: {}\".format(train_set[0][1]))"
      ]
    },
    {
      "cell_type": "markdown",
      "metadata": {
        "id": "piAf25dxyZCx"
      },
      "source": [
        "### Display the first 5 data of MNIST dataset."
      ]
    },
    {
      "cell_type": "code",
      "execution_count": 43,
      "metadata": {
        "id": "Jsa2MAEhyZCx"
      },
      "outputs": [
        {
          "data": {
            "image/png": "[encoded data removed]",
            "text/plain": [
              "<Figure size 640x480 with 5 Axes>"
            ]
          },
          "metadata": {},
          "output_type": "display_data"
        }
      ],
      "source": [
        "# ------------------------------------\n",
        "for num in range(0,5):\n",
        "    one_data = next(iter(train_loader))\n",
        "    plt.subplot(1,5,num+1)\n",
        "    plt.imshow(one_data[0][0][0,:,:])\n",
        "    plt.title(one_data[1][0].item())"
      ]
    },
    {
      "cell_type": "markdown",
      "metadata": {
        "id": "bo6-KX8UyZCy"
      },
      "source": [
        "## Network setting\n",
        "\n",
        "While image classification, is usually performed using Convolutional Neural Networks, we will use here a Multi-Layer-Perceptron (also named ```fully-connected```).\n",
        "For this, we will flatten (i.e. convert the iamge 2D matrix to a 1D vector) the input images.\n",
        "\n",
        "- The input images are of size 28*28 and are converted to vectors of size ```n_in```=784.\n",
        "\n",
        "- The two hidden layers have````n_h1````=500 and ```n_h2```=256 unit/neurons each and ```Relu```activations.\n",
        "\n",
        "- The output are the ```n_out```=10 classes (the 10 digits to be recognized).\n",
        "\n",
        "Since we deal with a muti-class problem (10 classes), the output activations is therefore a ```softmax```.\n",
        "\n",
        "Note that since the ```softmax```output will be given to a ```cross-entropy```, the ```log```et the latter can be directly added to the ```softmax```. This leads to the pytorch function ```F.log_softmax```.\n"
      ]
    },
    {
      "cell_type": "code",
      "execution_count": null,
      "metadata": {
        "id": "H0uIIQb9yZCy"
      },
      "outputs": [],
      "source": [
        "class Net(nn.Module):\n",
        "    def __init__(self):\n",
        "        n_in = 28*28\n",
        "        n_h1 = 500\n",
        "        n_h2 = 256\n",
        "        n_out = 10\n",
        "        super(Net, self).__init__()\n",
        "        self.layer_fully_connected_1 = nn.Linear(n_in,n_h1)\n",
        "        self.layer_fully_connected_2 = nn.Linear(n_h1,n_h2)\n",
        "        self.layer_fully_connected_3 = nn.Linear(n_h2,n_out)\n",
        "    def forward(self, x):\n",
        "        x = x.reshape(-1,28*28)\n",
        "        x = F.relu(self.layer_fully_connected_1(x))\n",
        "        x = F.relu(self.layer_fully_connected_2(x))\n",
        "        x = self.layer_fully_connected_3(x)\n",
        "        return F.log_softmax(x, dim=1)"
      ]
    },
    {
      "cell_type": "markdown",
      "metadata": {
        "id": "x7qcgKFwyZCz"
      },
      "source": [
        "## Defining the train and test functions\n",
        "\n",
        "In the present lab, we distinguish between train and test data.\n",
        "We therefore write\n",
        "- a train function (to learn the network parameters on the train data),\n",
        "- a test function (to evaluate the network's performances on the test data).\n",
        "\n",
        "The ```train``` and ```test```function will perform the computation for a given ```epoch```.\n",
        "The functions therefore only need to ```loop over``` the mini-batches.\n",
        "This is now easy since we defined our ```Dataloader```for train and test.\n",
        "\n",
        "For the train function, for each mini-batch, we  \n",
        "- compute the forward pass by passing the data to the model: haty = model(x)\n",
        "- compute the the loss (the criterion)\n",
        "- putting at zero the gradients of all the parameters of the network (this is important since, by default, pytorch accumulate the gradients over time)\n",
        "- computing the backpropagation (using as before .backward())\n",
        "- performing one step of optimization (using .step())\n",
        "\n",
        "For the train function, we set the model to train mode (```model.train()```). This allows to set some specific behaviours for training (such as activate the dropout).\n",
        "\n",
        "For the test function, we set the model to train mode (```model.eval()```). This allows to set some specific behaviours for training (such as removing the dropout).\n",
        "\n",
        "\n",
        "Since we are dealing with a multi-class problem (10 classes), we will minimize as loss the ```cross-entropy``` (named negative-log-likelihood ```nll_loss```in pytorch).\n",
        "Since ```nll_loss```does not contains the ```log``` we have added it directly to the softmax by using the ```log_softmax```as output activation of our network.\n",
        "\n",
        "Note that we could use the loss from the nn package (```torch.nn.NLLLoss```) it is then a class which needs to be first instanciated.\n",
        "We can also use the same but as a function (```F.nll_loss()```) which can be used directly without instanciating the class."
      ]
    },
    {
      "cell_type": "code",
      "execution_count": null,
      "metadata": {
        "id": "3dGuPt96yZCz"
      },
      "outputs": [],
      "source": [
        "def train(model, train_loader, optimizer, epoch):\n",
        "    model.train()\n",
        "    for batch_idx, (data, target) in enumerate(train_loader):\n",
        "        optimizer.zero_grad()\n",
        "        y_pred = model(data)\n",
        "        loss = F.nll_loss(y_pred,target)\n",
        "        loss.backward()\n",
        "        optimizer.step()\n",
        "        if batch_idx % 100 == 0:\n",
        "            print('epoch {}, loss {}'.format(epoch, loss.item()))"
      ]
    },
    {
      "cell_type": "code",
      "execution_count": null,
      "metadata": {
        "id": "zI8QtzV2yZC0"
      },
      "outputs": [],
      "source": [
        "def test(model, test_loader):\n",
        "    model.eval()\n",
        "    test_loss = 0\n",
        "    correct = 0\n",
        "    with torch.no_grad():\n",
        "        for data, target in test_loader:\n",
        "            y_pred = model(data)\n",
        "            test_loss += F.nll_loss(y_pred, target).item()\n",
        "            pred = y_pred.argmax(dim=1)\n",
        "            correct += pred.eq(target).sum().item()\n",
        "\n",
        "    test_loss /= len(test_loader.dataset)\n",
        "    correct /= len(test_loader.dataset)\n",
        "    print('\\nTest set: Average loss: {}, Accuracy: {}\\n'.format(test_loss, correct))"
      ]
    },
    {
      "cell_type": "markdown",
      "metadata": {
        "id": "9MXQIbcJyZC0"
      },
      "source": [
        "## Looping over epochs\n",
        "\n",
        "\n",
        "We finally define, how we will optimize our parameters by defining an optimizer.\n",
        "We will use here a very simple one: the SGD (```optim.SGD```) with a learning rate of 0.01.\n",
        "\n",
        "At each iteration, we then call the train and the test function."
      ]
    },
    {
      "cell_type": "code",
      "execution_count": null,
      "metadata": {
        "id": "ofYcX05ZyZC0"
      },
      "outputs": [
        {
          "name": "stdout",
          "output_type": "stream",
          "text": [
            "epoch 1, loss 2.306854248046875\n",
            "epoch 1, loss 0.9985909461975098\n",
            "epoch 1, loss 0.3298093378543854\n",
            "epoch 1, loss 0.32558631896972656\n",
            "epoch 1, loss 0.38274577260017395\n",
            "epoch 1, loss 0.3016602694988251\n",
            "epoch 1, loss 0.4263134002685547\n",
            "epoch 1, loss 0.2821875214576721\n",
            "epoch 1, loss 0.25934070348739624\n",
            "epoch 1, loss 0.09598659723997116\n",
            "\n",
            "Test set: Average loss: 0.003387734551727772, Accuracy: 0.9376\n",
            "\n",
            "epoch 2, loss 0.22815315425395966\n",
            "epoch 2, loss 0.20880620181560516\n",
            "epoch 2, loss 0.23635399341583252\n",
            "epoch 2, loss 0.17918798327445984\n",
            "epoch 2, loss 0.10726259648799896\n",
            "epoch 2, loss 0.11327577382326126\n",
            "epoch 2, loss 0.16361656785011292\n",
            "epoch 2, loss 0.31632092595100403\n",
            "epoch 2, loss 0.1084728017449379\n",
            "epoch 2, loss 0.18447718024253845\n",
            "\n",
            "Test set: Average loss: 0.002155420969892293, Accuracy: 0.9583\n",
            "\n",
            "epoch 3, loss 0.07256928831338882\n",
            "epoch 3, loss 0.043009571731090546\n",
            "epoch 3, loss 0.04999177157878876\n",
            "epoch 3, loss 0.10759900510311127\n",
            "epoch 3, loss 0.0901002436876297\n",
            "epoch 3, loss 0.0812908411026001\n",
            "epoch 3, loss 0.0932428315281868\n",
            "epoch 3, loss 0.1735273003578186\n",
            "epoch 3, loss 0.2777257561683655\n",
            "epoch 3, loss 0.10838786512613297\n",
            "\n",
            "Test set: Average loss: 0.0017763890335336326, Accuracy: 0.9644\n",
            "\n",
            "epoch 4, loss 0.11732430756092072\n",
            "epoch 4, loss 0.07509080320596695\n",
            "epoch 4, loss 0.19836251437664032\n",
            "epoch 4, loss 0.18606267869472504\n",
            "epoch 4, loss 0.15606634318828583\n",
            "epoch 4, loss 0.22614680230617523\n",
            "epoch 4, loss 0.015506617724895477\n",
            "epoch 4, loss 0.08564573526382446\n",
            "epoch 4, loss 0.12264544516801834\n",
            "epoch 4, loss 0.08260411024093628\n",
            "\n",
            "Test set: Average loss: 0.0013943347870372235, Accuracy: 0.9727\n",
            "\n",
            "epoch 5, loss 0.014644889160990715\n",
            "epoch 5, loss 0.06827264279127121\n",
            "epoch 5, loss 0.03226826712489128\n",
            "epoch 5, loss 0.0524638369679451\n",
            "epoch 5, loss 0.13097287714481354\n",
            "epoch 5, loss 0.07233991473913193\n",
            "epoch 5, loss 0.13406938314437866\n",
            "epoch 5, loss 0.08921028673648834\n",
            "epoch 5, loss 0.07292785495519638\n",
            "epoch 5, loss 0.028415746986865997\n",
            "\n",
            "Test set: Average loss: 0.0012627876424230636, Accuracy: 0.9743\n",
            "\n",
            "epoch 6, loss 0.021939929574728012\n",
            "epoch 6, loss 0.019526636227965355\n",
            "epoch 6, loss 0.04170325770974159\n",
            "epoch 6, loss 0.026753375306725502\n",
            "epoch 6, loss 0.013079453259706497\n",
            "epoch 6, loss 0.027024220675230026\n",
            "epoch 6, loss 0.05358392745256424\n",
            "epoch 6, loss 0.02047659270465374\n",
            "epoch 6, loss 0.06416279077529907\n",
            "epoch 6, loss 0.10509642213582993\n",
            "\n",
            "Test set: Average loss: 0.0011702513728057966, Accuracy: 0.9768\n",
            "\n",
            "epoch 7, loss 0.016492795199155807\n",
            "epoch 7, loss 0.09399664402008057\n",
            "epoch 7, loss 0.05394217371940613\n",
            "epoch 7, loss 0.04132118076086044\n",
            "epoch 7, loss 0.018908917903900146\n",
            "epoch 7, loss 0.04384511709213257\n",
            "epoch 7, loss 0.008774599991738796\n",
            "epoch 7, loss 0.030056960880756378\n",
            "epoch 7, loss 0.047513723373413086\n",
            "epoch 7, loss 0.02443980984389782\n",
            "\n",
            "Test set: Average loss: 0.0011269215042935684, Accuracy: 0.9777\n",
            "\n",
            "epoch 8, loss 0.010899335145950317\n",
            "epoch 8, loss 0.011848876252770424\n",
            "epoch 8, loss 0.02741171605885029\n",
            "epoch 8, loss 0.05777859315276146\n",
            "epoch 8, loss 0.036153633147478104\n",
            "epoch 8, loss 0.02375289611518383\n",
            "epoch 8, loss 0.028093187138438225\n",
            "epoch 8, loss 0.010337138548493385\n",
            "epoch 8, loss 0.028805896639823914\n",
            "epoch 8, loss 0.040591929107904434\n",
            "\n",
            "Test set: Average loss: 0.0010111366809578612, Accuracy: 0.9798\n",
            "\n",
            "epoch 9, loss 0.015549360774457455\n",
            "epoch 9, loss 0.009892046451568604\n",
            "epoch 9, loss 0.036465123295784\n",
            "epoch 9, loss 0.07299339026212692\n",
            "epoch 9, loss 0.05397702753543854\n",
            "epoch 9, loss 0.008480781689286232\n",
            "epoch 9, loss 0.027150306850671768\n",
            "epoch 9, loss 0.06523725390434265\n",
            "epoch 9, loss 0.013406752608716488\n",
            "epoch 9, loss 0.032278649508953094\n",
            "\n",
            "Test set: Average loss: 0.0010200061566429212, Accuracy: 0.9783\n",
            "\n",
            "epoch 10, loss 0.009030803106725216\n",
            "epoch 10, loss 0.07150264084339142\n",
            "epoch 10, loss 0.02359338290989399\n",
            "epoch 10, loss 0.007868225686252117\n",
            "epoch 10, loss 0.05026073381304741\n",
            "epoch 10, loss 0.03525107726454735\n",
            "epoch 10, loss 0.08002626150846481\n",
            "epoch 10, loss 0.06345978379249573\n",
            "epoch 10, loss 0.004461987875401974\n",
            "epoch 10, loss 0.01572548970580101\n",
            "\n",
            "Test set: Average loss: 0.0009765783241717145, Accuracy: 0.9805\n",
            "\n"
          ]
        }
      ],
      "source": [
        "model = Net()\n",
        "optimizer = optim.SGD(model.parameters(), lr=0.01, momentum=0.9)\n",
        "nb_epoch = 10\n",
        "for epoch in range(1, nb_epoch + 1):\n",
        "    train(model, train_loader, optimizer, epoch)\n",
        "    test(model, test_loader)"
      ]
    },
    {
      "cell_type": "markdown",
      "metadata": {},
      "source": [
        "### My conclusion :\n",
        "\n",
        "Since the computation of the algorithm was really slow, I increased the mini-batch size to 64 so that the algorithm runs faster. \n",
        "\n",
        "We get an accuracy that is really high for the test set, and over the epoch the accuracy invreases and the average loss decreases, which is satisfactory. However, maybe 10 epochs is too much for our model, it may overfit the data."
      ]
    }
  ],
  "metadata": {
    "colab": {
      "provenance": [],
      "toc_visible": true
    },
    "kernelspec": {
      "display_name": "Python 3",
      "language": "python",
      "name": "python3"
    },
    "language_info": {
      "codemirror_mode": {
        "name": "ipython",
        "version": 3
      },
      "file_extension": ".py",
      "mimetype": "text/x-python",
      "name": "python",
      "nbconvert_exporter": "python",
      "pygments_lexer": "ipython3",
      "version": "3.12.0"
    },
    "toc": {
      "base_numbering": 1,
      "nav_menu": {},
      "number_sections": true,
      "sideBar": true,
      "skip_h1_title": false,
      "title_cell": "Table of Contents",
      "title_sidebar": "Contents",
      "toc_cell": false,
      "toc_position": {
        "height": "calc(100% - 180px)",
        "left": "10px",
        "top": "150px",
        "width": "165px"
      },
      "toc_section_display": true,
      "toc_window_display": false
    }
  },
  "nbformat": 4,
  "nbformat_minor": 0
}
