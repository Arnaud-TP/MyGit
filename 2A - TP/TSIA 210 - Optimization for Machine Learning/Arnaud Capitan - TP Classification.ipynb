{
 "cells": [
  {
   "cell_type": "markdown",
   "metadata": {},
   "source": [
    "# $\\underline{\\text{Practice Session : Cost-sensitive classification and ROC/PR curves}}$\n",
    "##### Arnaud Capitan"
   ]
  },
  {
   "cell_type": "markdown",
   "metadata": {},
   "source": [
    "## $\\underline{\\text{Part 1 : Evaluation metrics for binary classification}}$\n",
    "\n",
    "### 1. Introducing ROC curves\n",
    "\n",
    "$\\underline{\\textit{(1) Recall the definition of Accuracy (and prediction error) using the previous expression}}$\n",
    "\n",
    "Accuracy = $\\frac{\\text{TP + TN}}{\\text{TP + FP + TN + FN}}$\n",
    "\n",
    "Error = 1 - Accuracy = $\\frac{\\text{FP + FN}}{\\text{TP + FP + TN + FN}}$\n",
    "\n",
    "$\\underline{\\textit{(2) Give at least one example when Accuracy is misleading}}$\n",
    "\n",
    "We take a data sample with 99% label + and 1% label -\n",
    "We assign every data point to the + label as a classifier, we get a 99% accuracy\n",
    "\n",
    "### True Positive Rate (TPR) and False Positive Rate (FPR)\n",
    "\n",
    "TPR = $\\frac{\\text{TP}}{\\text{TP + FN}}$\n",
    "\n",
    "FPR = $\\frac{\\text{FP}}{\\text{FP + TN}}$\n",
    "\n",
    "#### $\\underline{\\text{AUC ROC : Area Under the Curve - Receiver Operating Characteristic}}$\n",
    "\n",
    "$\\underline{\\text{The ROC curve plots FPR on x's axis and TPR on y's axis for different values of threshold } \\theta}$\n",
    "\n",
    "TPR = 0\n",
    "FPR will have a low value."
   ]
  },
  {
   "cell_type": "markdown",
   "metadata": {},
   "source": [
    "### $\\underline{\\text{Part 2. Introducing PR curves}}$\n",
    "\n",
    "##### $\\underline{\\text{Definitions :}}$\n",
    "\n",
    "Precision = $\\frac{\\text{TP}}{\\text{TP+FP}}$\n",
    "\n",
    "Recall = $\\frac{\\text{TP}}{\\text{TP+FN}}$\n",
    "\n",
    "AUC PR : Area Under the Precision-Recall Curve\n",
    "\n",
    "AUC PR = 1.0, perfect precision and recall\n",
    "AUC PR = 0, the model performs poorly\n",
    "\n",
    "$\\underline{\\textit{(a) Compare the definitions of Accuracy and Precision}}$\n",
    "\n",
    "Precision = $\\frac{\\text{TP}}{\\text{TP+FP}}$\n",
    "\n",
    "Accuracy = $\\frac{\\text{TP + TN}}{\\text{TP + FP + TN + FN}}$\n",
    "\n",
    "Precision only accounts for correclty classifying the positive class, whereas accuracy accounts for both positive and negative class\n",
    "\n",
    "$\\underline{\\textit{(b) Draw a 1D example with a few data points, with a simple linear classifier (cut-point) and discuss/draw the AUC ROC and AUC PR.}}$\n",
    "$\\textit{First use balanced classes (same amount of positive and negative examples)}$\n",
    "\n",
    "We will use as linear classifier $\\textbf{1}_{X[k] \\leq t}$ for $t \\in [-1,1]$"
   ]
  },
  {
   "cell_type": "code",
   "execution_count": 13,
   "metadata": {},
   "outputs": [
    {
     "data": {
      "image/png": "[encoded data removed]",
      "text/plain": [
       "<Figure size 640x480 with 1 Axes>"
      ]
     },
     "metadata": {},
     "output_type": "display_data"
    }
   ],
   "source": [
    "import numpy as np\n",
    "import matplotlib.pyplot as plt\n",
    "\n",
    "n_pos = 50\n",
    "n_neg = 50\n",
    "\n",
    "X_pos = list(np.random.uniform(-0.5,1,n_pos))\n",
    "X_neg = list(np.random.uniform(-1,0.5,n_neg))\n",
    "\n",
    "plt.plot(X_pos, [0 for i in range (len(X_pos))], linestyle = 'none', marker='+', color='red')\n",
    "plt.plot(X_neg, [0 for i in range (len(X_neg))], linestyle = 'none', marker='_', color='green')\n",
    "plt.yticks([])\n",
    "plt.title(f\"Random 1D data sample with {n_pos} positive class points and {n_neg} negative class points\")\n",
    "plt.show()"
   ]
  },
  {
   "cell_type": "markdown",
   "metadata": {},
   "source": [
    "The ROC curve plots FPR on x's axis and TPR on y's axis for different values of threshold $\\theta$\n",
    "\n",
    "The PR curve plots Recall on x's axis and Precision on y's axis for different values of threshold $\\theta$\n",
    "\n",
    "$\\underline{\\text{NB: Recall = TPR = Sensitivity}}$"
   ]
  },
  {
   "cell_type": "code",
   "execution_count": null,
   "metadata": {},
   "outputs": [],
   "source": [
    "N_threshold = 1000 # Number of theta values\n",
    "theta_values = list(np.linspace(-1,1,N_threshold))\n",
    "\n",
    "def true_positive(theta,X_pos,X_neg):\n",
    "    k = 0\n",
    "    for x in X_pos:\n",
    "        if x >= theta:\n",
    "            k+=1\n",
    "    return(k)\n",
    "\n",
    "def false_positive(theta,X_pos,X_neg):\n",
    "    k = 0\n",
    "    for x in X_neg:\n",
    "        if x >= theta:\n",
    "            k+=1\n",
    "    return(k)\n",
    "\n",
    "def true_negative(theta,X_pos,X_neg):\n",
    "    k = 0\n",
    "    for x in X_neg:\n",
    "        if x < theta:\n",
    "            k+=1\n",
    "    return(k)\n",
    "\n",
    "def false_negative(theta,X_pos,X_neg):\n",
    "    k = 0\n",
    "    for x in X_pos:\n",
    "        if x < theta:\n",
    "            k+=1\n",
    "    return(k)\n",
    "\n",
    "def true_positive_rate(theta,X_pos,X_neg): # Or recall or sensitivity\n",
    "    TP = true_positive(theta,X_pos,X_neg)\n",
    "    FN = false_negative(theta,X_pos,X_neg)\n",
    "    return(TP/(TP+FN))\n",
    "\n",
    "def false_positive_rate(theta,X_pos,X_neg):\n",
    "    FP = false_positive(theta,X_pos,X_neg)\n",
    "    TN = true_negative(theta,X_pos,X_neg)\n",
    "    return(FP/(FP+TN))\n",
    "\n",
    "def precision(theta,X_pos,X_neg):\n",
    "    TP = true_positive(theta,X_pos,X_neg)\n",
    "    FP = false_positive(theta,X_pos,X_neg)\n",
    "    return(TP/(FP+TP))\n",
    "\n",
    "\n",
    "X_ROC = []\n",
    "Y_ROC = []\n",
    "X_PR = []\n",
    "Y_PR = []"
   ]
  }
 ],
 "metadata": {
  "kernelspec": {
   "display_name": "base",
   "language": "python",
   "name": "python3"
  },
  "language_info": {
   "codemirror_mode": {
    "name": "ipython",
    "version": 3
   },
   "file_extension": ".py",
   "mimetype": "text/x-python",
   "name": "python",
   "nbconvert_exporter": "python",
   "pygments_lexer": "ipython3",
   "version": "3.11.5"
  }
 },
 "nbformat": 4,
 "nbformat_minor": 2
}
