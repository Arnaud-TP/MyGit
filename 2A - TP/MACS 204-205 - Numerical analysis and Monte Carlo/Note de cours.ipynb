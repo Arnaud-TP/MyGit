{
 "cells": [
  {
   "cell_type": "markdown",
   "id": "4acdbf88",
   "metadata": {},
   "source": [
    "# MACS205 - Note de cours \n",
    "\n",
    "Cadre de l'analyse numérique, interpolation polynomiale et integration numérique\n",
    "\n",
    "___"
   ]
  },
  {
   "cell_type": "markdown",
   "id": "5759bc7b",
   "metadata": {},
   "source": [
    "# Fonctions de Hölder\n",
    "\n",
    "Si $(X, d_X)$ et $(Y, d_Y)$ sont deux espaces métriques, une fonction $ f : X \\to Y $ est dite a-höldérienne s’il existe une constante  C  telle que pour tous $ \\forall x, \\forall y \\in X $ :\n",
    "\n",
    "$$ d_Y(f(x), f(y)) \\leq C d_X(x, y)^a $$\n",
    "\n",
    "\n",
    "La continuité höldérienne d’une fonction dépend donc d’un paramètre $ a \\in ]0, 1] $.\n",
    "\n",
    "Les applications 1-höldériennes sont les applications lipschitziennes.  \n",
    "Pour $ a \\in ]0, 1]$ fixé, l’ensemble des fonctions réelles  a-höldériennes bornées sur X est un espace vectoriel, couramment noté $C^{0,a}(X)$, particulièrement important en analyse fonctionnelle.\n"
   ]
  }
 ],
 "metadata": {
  "kernelspec": {
   "display_name": "Python 3 (ipykernel)",
   "language": "python",
   "name": "python3"
  },
  "language_info": {
   "codemirror_mode": {
    "name": "ipython",
    "version": 3
   },
   "file_extension": ".py",
   "mimetype": "text/x-python",
   "name": "python",
   "nbconvert_exporter": "python",
   "pygments_lexer": "ipython3",
   "version": "3.10.6"
  }
 },
 "nbformat": 4,
 "nbformat_minor": 5
}
