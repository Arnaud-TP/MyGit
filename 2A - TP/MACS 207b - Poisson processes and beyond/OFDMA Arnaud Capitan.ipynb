{
 "cells": [
  {
   "cell_type": "markdown",
   "id": "db5de09d",
   "metadata": {},
   "source": [
    "# Outage probability in OFDMA protocol\n",
    "\n",
    "## MACS 207B\n",
    "\n",
    "### Arnaud Capitan"
   ]
  },
  {
   "cell_type": "markdown",
   "id": "f433d73e",
   "metadata": {},
   "source": [
    "___\n",
    "\n",
    "Librairies I will be using for this project :"
   ]
  },
  {
   "cell_type": "code",
   "execution_count": 18,
   "id": "a8fb198a",
   "metadata": {},
   "outputs": [],
   "source": [
    "import numpy as np\n",
    "import matplotlib.pyplot as plt\n",
    "from math import factorial\n",
    "from scipy.stats import poisson, kstest"
   ]
  },
  {
   "cell_type": "markdown",
   "id": "faea8ab3",
   "metadata": {},
   "source": [
    "___\n",
    "\n",
    "In this project, we want to estimate for one time slot the probability that the cumulative number of required subchannels by the set of active customer at a given time is greater than the number of available resources.\n",
    "\n",
    "We will be considering that :\n",
    "\n",
    "- The emitter is given severak subcarriers for a few time slots, thus building a subchannel\n",
    "- The number of allocated frequency bins is fixed during the ON period\n",
    "- The number of subcarriers needed by a user located at x, who wants to communicate at a rate C is given by :\n",
    "\n",
    "$ N(x) = \\lceil \\dfrac{C}{W \\log _2(1+\\dfrac{K}{||x||^{\\gamma}})} \\rceil $, if $K ||x|| ^{-\\gamma} > \\text{SNR}_{min}$\n",
    "\n",
    "where $\\text{SNR}_{min}$ is the minimum signal over noise ratio necessary to ensure the feasibility of the communication.\n",
    "\n",
    "- The users are represented by a Poisson process of intensity measure $\\lambda dx$\n",
    "- The active users in a time slot is a percentage $p$ of those users. Since this percentage of active user isn't said to be the same at each time slot, we assume that for each time slot the distribution of the active users follow a Bernouilli($p$) distribution for each user.   \n",
    "- The access point is located at (0,0), and the observation window is a circle of radius $R$"
   ]
  },
  {
   "cell_type": "markdown",
   "id": "acaa7155",
   "metadata": {},
   "source": [
    "___\n",
    "\n",
    "A first results, is that we have an upper bound of the number of slots per user : \n",
    "\n",
    "If we take $x$ such that $||x||^{\\gamma} = \\dfrac{K}{\\text{SNR}_{min}}$ (maximum norm value of $x$) :\n",
    "\n",
    "$$ N_{max} = \\lceil \\dfrac{C}{W \\log _2(1+\\dfrac{K}{1 + \\text{SNR}_{min}})} \\rceil $$\n",
    "\n",
    "___\n",
    "\n",
    "We also have the numerical values :"
   ]
  },
  {
   "cell_type": "code",
   "execution_count": 19,
   "id": "80bd0bc5",
   "metadata": {},
   "outputs": [],
   "source": [
    "C = 200000 #bits/s\n",
    "W = 250000 #Hz\n",
    "K = 1000000\n",
    "gamma = 2.8\n",
    "R = 300 #m\n",
    "lambda_poisson = 0.01 #/m²\n",
    "SNR_min = 0.1\n",
    "p = 0.01\n",
    "S_min = 30\n",
    "S_max = 100"
   ]
  },
  {
   "cell_type": "markdown",
   "id": "151700a3",
   "metadata": {},
   "source": [
    "# Questions\n",
    "\n",
    "___"
   ]
  },
  {
   "cell_type": "markdown",
   "id": "a4e0e147",
   "metadata": {},
   "source": [
    "1]\n",
    "\n",
    "The process of users is a Poisson process of intensity measure $\\lambda dx$ and the active users in a time slot is a percentage $p$ of those users. As mentioned above, since this percentage of active user isn't said to be the same at each time slot, we assume that for each time slot the distribution of the active users follow a Bernouilli($p$) distribution for each user.  \n",
    "\n",
    "Thus the process of active users is a thinning of the Poisson process of users by the coefficient $p$, thus resulting by a theorem of the course (Theorem 5.7 (Thinning)) to a Poisson process of intensity measure $\\lambda p dx$.\n",
    "\n",
    "___"
   ]
  },
  {
   "cell_type": "markdown",
   "id": "6b281eb6",
   "metadata": {},
   "source": [
    "2] \n",
    "\n",
    "To compute the mean number of active customers in the cell, we need to compute the expectation of the number of active customers.\n",
    "\n",
    "By Campbell's formula (Theorem 5.2), we have :\n",
    "\n",
    "$\\mathbb{E}[n_{\\text{Active customers}}] = \\int _E \\lambda p dx$\n",
    "\n",
    "With E being the observation window, which is  a circle of radius R.\n",
    "\n",
    "We then obtain :\n",
    "\n",
    "$\\mathbb{E}[n_{\\text{Active customers}}] = \\lambda p \\pi R^2$\n",
    "\n",
    "We can do the computation with the exact values :"
   ]
  },
  {
   "cell_type": "code",
   "execution_count": 20,
   "id": "2ba237bf",
   "metadata": {},
   "outputs": [
    {
     "name": "stdout",
     "output_type": "stream",
     "text": [
      "Mean number of active customers: 28.27433\n"
     ]
    }
   ],
   "source": [
    "n_active_customers = lambda_poisson*p*np.pi*R**2\n",
    "print(f\"Mean number of active customers: {n_active_customers:.5f}\")"
   ]
  },
  {
   "cell_type": "markdown",
   "id": "099d97af",
   "metadata": {},
   "source": [
    "___\n",
    "\n",
    "3]\n",
    "\n",
    "For $1 \\leq k \\leq N_{max}$, we want to describe geometrically the subset of the cell in which all customers require k subcarriers.\n",
    "\n",
    "This means that we want to describe geometrically the distribution of $x$ for which $N(x) = k$\n",
    "\n",
    "$\\lceil \\dfrac{C}{W \\log _2(1+\\dfrac{K}{||x||^{\\gamma}})} \\rceil = k$\n",
    "\n",
    "$k-1 < \\dfrac{C}{W \\log _2(1+\\dfrac{K}{||x||^{\\gamma}})} \\leq k$\n",
    "\n",
    "$ 2^{\\dfrac{C}{W(k-1)}} > 1 + \\dfrac{K}{||x||^{\\gamma}} \\geq 2^{\\dfrac{C}{Wk}}$\n",
    "\n",
    "$ \\dfrac{K}{2^{\\frac{C}{W(k-1)}} - 1} < ||x||^{\\gamma} \\leq \\dfrac{K}{2^{\\frac{C}{Wk}} - 1} $\n",
    "\n",
    "$ (\\dfrac{K}{2^{\\frac{C}{W(k-1)}} - 1})^{\\frac{1}{\\gamma}} < ||x|| \\leq (\\dfrac{K}{2^{\\frac{C}{Wk}} - 1})^{\\frac{1}{\\gamma}} $\n",
    "\n",
    "So the subset of the cell in which all customers require k subcarriers is a ring-shaped region defined by :\n",
    "\n",
    "- Its internal radius $r_{in}(k) = (\\dfrac{K}{2^{\\frac{C}{W(k-1)}} - 1})^{\\frac{1}{\\gamma}}$\n",
    "- Its external radius $r_{ext}(k) = (\\dfrac{K}{2^{\\frac{C}{Wk}} - 1})^{\\frac{1}{\\gamma}}$\n",
    "\n",
    "If $k = 1$, we have $r_{in}(1) = 0$, because we have a division by 0 otherwise that would give the same result."
   ]
  },
  {
   "cell_type": "markdown",
   "id": "f7a2b8e4",
   "metadata": {},
   "source": [
    "___\n",
    "\n",
    "4] The distribution of $A_3$, the number of (active) customers requiring 3 subcarriers is by Theorem 5.3. following a Poisson distribution with parameter $\\mu (Area(r_{in}(3),r_{out}(3)))$\n",
    "\n",
    "We compute this value :\n",
    "\n",
    "$\\mu (Area(r_{in}(3),r_{out}(3))) = \\lambda p Area(r_{in}(3),r_{out}(3))$\n",
    "\n",
    "$\\mu (Area(r_{in}(3),r_{out}(3))) = \\lambda p \\pi (r_{in}(3)^2 - r_{out}(3)^2)$\n",
    "\n",
    "Thus, $A_3$ is following a distribution of a Poisson process of parameter :\n",
    "\n",
    "$$ A_3 \\sim \\mathcal{P} (\\lambda p \\pi (r_{in}(3)^2 - r_{out}(3)^2)) $$\n",
    "\n",
    "We can compute the value of the parameter :"
   ]
  },
  {
   "cell_type": "code",
   "execution_count": 21,
   "id": "4f7356bf",
   "metadata": {},
   "outputs": [
    {
     "name": "stdout",
     "output_type": "stream",
     "text": [
      "A3 parameter: 5.24130\n"
     ]
    }
   ],
   "source": [
    "N_max = np.ceil(C / (W * np.log2(1 + SNR_min)))\n",
    "\n",
    "def subcarriers(x_norm):\n",
    "    SNR = K * x_norm**(-gamma)\n",
    "    if SNR < SNR_min:\n",
    "        return 0 #The user cannot be served\n",
    "    return (np.ceil(C / (W * np.log2(1 + SNR))))\n",
    "\n",
    "def r_in(k):\n",
    "    if k == 1:\n",
    "        return 0\n",
    "    dist = (K/(2**(C/(W*(k-1)))-1))**(1/gamma)\n",
    "    if dist > R:\n",
    "        return R\n",
    "    return(dist)\n",
    "\n",
    "def r_ext(k):\n",
    "    dist = (K/(2**(C/(W*k))-1))**(1/gamma)\n",
    "    if dist > R:\n",
    "        return R\n",
    "    return(dist)    \n",
    "\n",
    "A_3_parameter = lambda_poisson*p*np.pi*(r_ext(3)**2-r_in(3)**2)\n",
    "print(f\"A3 parameter: {A_3_parameter:.5f}\")"
   ]
  },
  {
   "cell_type": "markdown",
   "id": "7f385c5b",
   "metadata": {},
   "source": [
    "___\n",
    "\n",
    "5] \n",
    "\n",
    "We want to use the Kolmogorov-Smirnov test (with a low p-value like 0.05) to see if $A_3 \\sim \\mathcal{P}(5.24130)$ follows this distribution or not.\n",
    "\n",
    "To do this :\n",
    "- We simulate the number of users using a Poisson process (the mean number of users can be computed as in the question 2], we obtain $\\lambda \\pi R^2$)\n",
    "- We simulate their position in the circle, to know how many subcarriers they will require (we only need the distance, so the angle is not computed)\n",
    "- We then apply a probability filter to only have a percentage $p$ for the number of active users\n",
    "- Then we look at the number of active users requiring 3 subcarriers\n",
    "- We repeat the previous steps $n_{\\text{trials}}$ times\n",
    "- Then we finally look at the distribution using the kstest (Kolmogorov-Smirnov test) from numpy function to see if the distributions match"
   ]
  },
  {
   "cell_type": "code",
   "execution_count": 22,
   "id": "8e32bfd2",
   "metadata": {},
   "outputs": [],
   "source": [
    "def generate_users():\n",
    "    area = np.pi*R**2\n",
    "    n_users = np.random.poisson(lambda_poisson*area) #Mean number of users\n",
    "    users_distance = R*np.sqrt(np.random.uniform(0,1,n_users))\n",
    "    return users_distance\n",
    "\n",
    "def simulate_A3_sample():\n",
    "    users = generate_users()\n",
    "    is_active = np.random.rand(len(users)) < p #We only consider active users, so we filter using a mask\n",
    "    active_users_distance = users[is_active]\n",
    "    num_subcarriers = np.array([subcarriers(r) for r in active_users_distance])\n",
    "    return np.sum(num_subcarriers == 3)"
   ]
  },
  {
   "cell_type": "code",
   "execution_count": 81,
   "id": "5a7528dd",
   "metadata": {},
   "outputs": [
    {
     "name": "stdout",
     "output_type": "stream",
     "text": [
      "p-value for the Kolmogorov-Smirnov test : 0.0208055529\n"
     ]
    }
   ],
   "source": [
    "n_trials = 100\n",
    "A3_samples = np.array([simulate_A3_sample() for _ in range(n_trials)])\n",
    "\n",
    "_, p_value = kstest(A3_samples, poisson(5.24130).cdf)\n",
    "print(f\"p-value for the Kolmogorov-Smirnov test : {p_value:.10f}\")"
   ]
  },
  {
   "cell_type": "markdown",
   "id": "fcf6b062",
   "metadata": {},
   "source": [
    "Using $n_{\\text{trials} = 100}$, which means that we have 100 values for the number of users in A3, we have a p-value that is below 0.05 on average (you can execute the cell above to have a new p-value). \n",
    "\n",
    "The Kolmogorov-Smirnov test is unsuccesful in showing that :\n",
    "\n",
    "$$A_3 \\sim \\mathcal{P}(5.24130)$$\n",
    "\n",
    "This is because the Kolmogorov-Smirnov test is not made for discrete distributions like the Poisson Process, thus having unsuccesful results when in fact the distributions do match.\n",
    "\n",
    "___"
   ]
  },
  {
   "cell_type": "markdown",
   "id": "ac08c04e",
   "metadata": {},
   "source": [
    "6]\n",
    "\n",
    "We have $F(\\phi) = \\sum_{x \\in \\phi} N(x)$, the number of subcarriers required by a set of users $\\phi$\n",
    "\n",
    "If we compute this sum not by the set of users $\\phi$ containing $x$ but by the number of subcarriers required $k$, we get :\n",
    "\n",
    "$F(\\phi) = \\sum_{k = 1} ^{N_{max}} k n_{\\text{users requiring k subcarriers}}$\n",
    "\n",
    "We write $n_{\\text{users requiring k subcarriers}} = \\zeta _k$\n",
    "\n",
    "We will now show that $(\\zeta _k)_{0 \\leq k \\leq N_{max}}$ are independant random variables with Poisson distribution (to be determined) :\n",
    "\n",
    "We know that the number of active users using $k$ subcarriers (in a ring-shaped area, according to question 3]) follows a Poisson process of intensity $\\lambda p \\pi (r_{in}(k)^2 - r_{out}(k)^2)$ (same calculations as question 4]).\n",
    "\n",
    "Furthermore, since the regions are disjoint (no areas are overlapping), the random variables are independant.\n",
    "\n",
    "So we have independant random variables :\n",
    "\n",
    "$\\zeta _k \\sim \\mathcal{P}(\\lambda p \\pi (r_{in}(k)^2 - r_{out}(k)^2))$ for $1 \\leq k \\leq N_{max}$\n",
    "\n",
    "And :\n",
    "\n",
    "$F(\\phi) = \\sum_{k = 1} ^{N_{max}} k \\zeta _k$\n",
    "\n",
    "___"
   ]
  },
  {
   "cell_type": "markdown",
   "id": "3d77e86b",
   "metadata": {},
   "source": [
    "7]\n",
    "\n",
    "We want to compute $\\mathbb{E}[e^{\\theta X_{\\mu}}]$ for $X_{\\mu}$ a Poisson random variable of parameter $\\mu$\n",
    "\n",
    "$\\mathbb{E}[e^{\\theta X_{\\mu}}] = \\sum_{k=0}^{+\\infty} \\dfrac{e^{\\theta k} \\mu^k}{k!} e^{-\\mu}$\n",
    "\n",
    "$\\mathbb{E}[e^{\\theta X_{\\mu}}] = \\sum_{k=0}^{+\\infty} \\dfrac{(e^{\\theta} \\mu)^k}{k!} e^{-\\mu}$\n",
    "\n",
    "$\\mathbb{E}[e^{\\theta X_{\\mu}}] = e^{\\mu (e^{\\theta}-1)}$\n",
    "\n",
    "by using the exponential series.\n"
   ]
  },
  {
   "cell_type": "markdown",
   "id": "46dbfacd",
   "metadata": {},
   "source": [
    "We then want to compute $\\min _{\\theta > 0} e^{-K \\mu \\theta} \\mathbb{E}[e^{\\theta X_{\\mu}}]$\n",
    "\n",
    "We differentiate the function with respect to $\\theta$ the following expression :\n",
    "\n",
    "$e^{-K \\mu \\theta} \\mathbb{E}[e^{\\theta X_{\\mu}}] = e^{-K \\mu \\theta}e^{\\mu (e^{\\theta}-1)} = e^{-K \\mu \\theta + \\mu (e^{\\theta}-1)}$\n",
    "\n",
    "$\\dfrac{d}{d \\theta} (e^{-K \\mu \\theta} \\mathbb{E}[e^{\\theta X_{\\mu}}]) = e^{-K \\mu \\theta + \\mu (e^{\\theta}-1)} \\dfrac{d}{d \\theta}(-K \\mu \\theta + \\mu (e^{\\theta}-1))$\n",
    "\n",
    "$\\dfrac{d}{d \\theta} (e^{-K \\mu \\theta} \\mathbb{E}[e^{\\theta X_{\\mu}}]) = \\mu (e^{\\theta}-K) e^{-K \\mu \\theta + \\mu (e^{\\theta}-1)}$\n",
    "\n",
    "$\\dfrac{d}{d \\theta} (e^{-K \\mu \\theta} \\mathbb{E}[e^{\\theta X_{\\mu}}]) = 0 \\iff \\theta = \\ln (K) > 0$\n",
    "\n",
    "So we have : \n",
    "\n",
    "$\\min _{\\theta > 0} e^{-K \\mu \\theta} \\mathbb{E}[e^{\\theta X_{\\mu}}] = e^{- \\mu (K \\ln (K) - K + 1)}$\n",
    "\n",
    "___"
   ]
  },
  {
   "cell_type": "markdown",
   "id": "284d5557",
   "metadata": {},
   "source": [
    "8] \n",
    "\n",
    "The first inequality comes from the Markov inequality. We have in fact :\n",
    "\n",
    "$\\mathbb{P}(X _{\\mu} \\geq K \\mu) = \\mathbb{P}(e^{\\theta X _{\\mu}} \\geq e^{\\theta K \\mu})$\n",
    "\n",
    "Because $x \\rightarrow e^{\\theta x}$ is an increasing function for $x \\in \\mathbb{R}$\n",
    "\n",
    "We then apply Markov's inequality :\n",
    "\n",
    "$\\mathbb{P}(X _{\\mu} \\geq K \\mu) \\leq e^{-\\theta K \\mu} \\mathbb{E}[e^{\\theta X_{\\mu}}]$\n",
    "\n",
    "7] gives that the minimum of the right-side value is reached when $\\theta = \\ln (K)$\n",
    "\n",
    "Thus obtaining : \n",
    "\n",
    "$\\mathbb{P}(X _{\\mu} \\geq K \\mu) \\leq e^{- \\mu (K \\ln (K) - K + 1)}$\n",
    "\n",
    "We want to find the value $K _{\\mu}$ such that :\n",
    "\n",
    "$e^{- \\mu (K _{\\mu} \\ln (K _{\\mu}) - K _{\\mu} + 1)} \\leq 10^{-4}$\n",
    "\n",
    "We see that this identity allows us to compute numerically the distribution of a Poisson random variable of intensity $\\mu$ with the sequence :\n",
    "\n",
    "$e^{- \\mu} \\dfrac{\\mu ^k}{k!} $, for $0 \\leq k \\leq K_{\\mu}$\n",
    "\n",
    "Thus $K_{\\mu}$ is an integer.\n",
    "\n",
    "We can solve it numerically given $\\mu$ :"
   ]
  },
  {
   "cell_type": "code",
   "execution_count": 24,
   "id": "df7013f2",
   "metadata": {},
   "outputs": [],
   "source": [
    "def K_mu(mu):\n",
    "    k = 1\n",
    "    while np.exp(-mu*(k*np.log(k)-k+1)) > 0.0001: #I applied np.log to avoid overflow\n",
    "        k += 1\n",
    "    return(k)"
   ]
  },
  {
   "cell_type": "markdown",
   "id": "1f2a88df",
   "metadata": {},
   "source": [
    "___\n",
    "\n",
    "9] We recall that :\n",
    "\n",
    "$\\zeta _k \\sim \\mathcal{P}(\\lambda p \\pi (r_{in}(k)^2 - r_{out}(k)^2))$ for $1 \\leq k \\leq N_{max}$\n",
    "\n",
    "So :\n",
    "\n",
    "$\\mathbb{E}[\\zeta _k] = \\lambda p \\pi (r_{in}(k)^2 - r_{out}(k)^2)$"
   ]
  },
  {
   "cell_type": "code",
   "execution_count": 25,
   "id": "4431c796",
   "metadata": {},
   "outputs": [
    {
     "name": "stdout",
     "output_type": "stream",
     "text": [
      "Maximum number of subcarriers: 6\n",
      "Mean number of users served with 1 subcarriers: 7.51292\n",
      "Mean number of users served with 2 subcarriers: 6.18977\n",
      "Mean number of users served with 3 subcarriers: 5.24130\n",
      "Mean number of users served with 4 subcarriers: 4.71924\n",
      "Mean number of users served with 5 subcarriers: 4.37078\n",
      "Mean number of users served with 6 subcarriers: 0.24032\n"
     ]
    }
   ],
   "source": [
    "N_max = int(np.ceil(C / (W * np.log2(1 + SNR_min))))\n",
    "print(f\"Maximum number of subcarriers: {N_max}\")\n",
    "\n",
    "mean_zeta_k = np.zeros(N_max)\n",
    "\n",
    "for k in range(1, N_max+1):\n",
    "    mean_zeta_k[k-1] = lambda_poisson*p*np.pi*(r_ext(k)**2-r_in(k)**2)\n",
    "    print(f\"Mean number of users served with {k} subcarriers: {mean_zeta_k[k-1]:.5f}\")"
   ]
  },
  {
   "cell_type": "code",
   "execution_count": 26,
   "id": "d7fc03d9",
   "metadata": {},
   "outputs": [
    {
     "name": "stdout",
     "output_type": "stream",
     "text": [
      "Total mean number of users served: 28.27433\n",
      "Mean number of active customers: 28.27433\n"
     ]
    }
   ],
   "source": [
    "print(f\"Total mean number of users served: {np.sum(mean_zeta_k):.5f}\")\n",
    "print(f\"Mean number of active customers: {n_active_customers:.5f}\")"
   ]
  },
  {
   "cell_type": "markdown",
   "id": "23de912e",
   "metadata": {},
   "source": [
    "The numbers match as expected."
   ]
  },
  {
   "cell_type": "code",
   "execution_count": 27,
   "id": "99353a63",
   "metadata": {},
   "outputs": [
    {
     "name": "stdout",
     "output_type": "stream",
     "text": [
      "Vector sizes for each zeta_k : [3, 4, 4, 4, 4, 20]\n",
      "Supremum K of these dimensions : 20\n"
     ]
    }
   ],
   "source": [
    "vector_sizes = []\n",
    "for k in range(1, N_max + 1):\n",
    "    mu = mean_zeta_k[k-1]\n",
    "    vector_sizes.append(K_mu(mu))\n",
    "supremum_K = max(vector_sizes)\n",
    "\n",
    "print(f\"Vector sizes for each zeta_k : {vector_sizes}\")\n",
    "print(f\"Supremum K of these dimensions : {supremum_K}\")\n"
   ]
  },
  {
   "cell_type": "code",
   "execution_count": 28,
   "id": "82b18c21",
   "metadata": {},
   "outputs": [],
   "source": [
    "zeta_distributions = []\n",
    "for k in range(1, N_max+1):\n",
    "    mu_k = mean_zeta_k[k-1]\n",
    "    k_values = np.arange(supremum_K+1)\n",
    "    zeta_dist = np.exp(-mu_k)*(mu_k**k_values)\n",
    "    for i in range(1,supremum_K+1):\n",
    "        zeta_dist[i] = np.exp(-mu_k)*(mu_k**i)/factorial(i)\n",
    "    zeta_distributions.append(zeta_dist)"
   ]
  },
  {
   "cell_type": "markdown",
   "id": "9a378102",
   "metadata": {},
   "source": [
    "We can display the distribution of the $(\\zeta _k)_{0 \\leq k \\leq N_{max}}$ :"
   ]
  },
  {
   "cell_type": "code",
   "execution_count": 29,
   "id": "04e8dfe3",
   "metadata": {},
   "outputs": [
    {
     "data": {
      "image/png": "[encoded data removed]",
      "text/plain": [
       "<Figure size 640x480 with 1 Axes>"
      ]
     },
     "metadata": {},
     "output_type": "display_data"
    }
   ],
   "source": [
    "for k,elem in enumerate(zeta_distributions):\n",
    "    plt.plot(np.arange(len(elem)), elem, label=f'k={k+1}')\n",
    "plt.title('Zeta Distributions for different number of subcarriers k')\n",
    "plt.xlabel('Number of Users Served')\n",
    "plt.ylabel('Probability')\n",
    "plt.legend()\n",
    "plt.grid()\n",
    "plt.show()"
   ]
  },
  {
   "cell_type": "code",
   "execution_count": 30,
   "id": "9cdbec60",
   "metadata": {},
   "outputs": [],
   "source": [
    "k_zeta_distributions = []\n",
    "for k, zeta_dist in enumerate(zeta_distributions, start=1):\n",
    "    values = np.arange(len(zeta_dist))*k\n",
    "    k_zeta_distributions.append((values, zeta_dist))"
   ]
  },
  {
   "cell_type": "code",
   "execution_count": 31,
   "id": "93e87ce0",
   "metadata": {},
   "outputs": [],
   "source": [
    "F_dist = zeta_distributions[0]\n",
    "for k in range(2, N_max+1):\n",
    "    stretched = np.zeros((len(zeta_distributions[k-1])-1)*k+1)\n",
    "    stretched[::k] = zeta_distributions[k-1]\n",
    "    F_dist = np.convolve(F_dist, stretched)\n"
   ]
  },
  {
   "cell_type": "code",
   "execution_count": 32,
   "id": "91baff84",
   "metadata": {},
   "outputs": [
    {
     "data": {
      "image/png": "[encoded data removed]",
      "text/plain": [
       "<Figure size 640x480 with 1 Axes>"
      ]
     },
     "metadata": {},
     "output_type": "display_data"
    }
   ],
   "source": [
    "plt.plot(np.arange(len(F_dist)), F_dist)\n",
    "plt.title('Distribution of F')\n",
    "plt.xlabel('Number of subcarriers required')\n",
    "plt.ylabel('Probability density function')\n",
    "plt.axvline(S_min, color='red', linestyle='--', label='S_min')\n",
    "plt.axvline(S_max, color='green', linestyle='--', label='S_max')\n",
    "plt.fill_between(np.arange(len(F_dist)), F_dist, where=(np.arange(len(F_dist)) >= S_max), color='orange', alpha=0.5, label='This area is the probability of outage')\n",
    "plt.legend()\n",
    "plt.grid()\n",
    "plt.show()"
   ]
  },
  {
   "cell_type": "markdown",
   "id": "113442ab",
   "metadata": {},
   "source": [
    "___\n",
    "\n",
    "10] We want to compute $S_{max}$ so that the outpage probability is smaller than 0.01\n",
    "\n",
    "I took $S_{max} = 100$ for the above plot, as given by the subject. We use the function np.cumsum to compute the cumululative distribution function, thanks to the values within F_dist"
   ]
  },
  {
   "cell_type": "code",
   "execution_count": 33,
   "id": "1a0f1338",
   "metadata": {},
   "outputs": [
    {
     "name": "stdout",
     "output_type": "stream",
     "text": [
      "Computed S_max : 119\n"
     ]
    }
   ],
   "source": [
    "def compute_S_max(F_dist, threshold=0.01):\n",
    "    cdf = np.cumsum(F_dist)\n",
    "    for S in range(len(cdf)):\n",
    "        if 1 - cdf[S] < threshold:\n",
    "            return S\n",
    "    return len(cdf) - 1\n",
    "\n",
    "S_max_computed = compute_S_max(F_dist)\n",
    "print(f\"Computed S_max : {S_max_computed}\")"
   ]
  },
  {
   "cell_type": "markdown",
   "id": "2d4aee3c",
   "metadata": {},
   "source": [
    "We get that $S_{max} = 119$ gives us an outage probability smaller than 0.01, which is better than $S_{max} = 100$ as per the subject which had an outage probability of 0.0896."
   ]
  },
  {
   "cell_type": "code",
   "execution_count": 34,
   "id": "7f3e7798",
   "metadata": {},
   "outputs": [
    {
     "name": "stdout",
     "output_type": "stream",
     "text": [
      "Outage probability for S_max = 100 : 0.0896\n"
     ]
    }
   ],
   "source": [
    "outage_probability = 1 - np.sum(F_dist[:S_max + 1])\n",
    "print(f\"Outage probability for S_max = {S_max} : {outage_probability:.4f}\")"
   ]
  }
 ],
 "metadata": {
  "kernelspec": {
   "display_name": "Python 3",
   "language": "python",
   "name": "python3"
  },
  "language_info": {
   "codemirror_mode": {
    "name": "ipython",
    "version": 3
   },
   "file_extension": ".py",
   "mimetype": "text/x-python",
   "name": "python",
   "nbconvert_exporter": "python",
   "pygments_lexer": "ipython3",
   "version": "3.12.0"
  }
 },
 "nbformat": 4,
 "nbformat_minor": 5
}
