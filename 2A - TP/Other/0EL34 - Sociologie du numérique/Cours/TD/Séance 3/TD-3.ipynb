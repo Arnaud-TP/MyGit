{
 "cells": [
  {
   "cell_type": "markdown",
   "id": "878e053c-4ca5-4dbf-9d04-a09d7e90acb1",
   "metadata": {},
   "source": [
    "Aujourd'hui petit travail sur l'enquête Marsouin. Une série d'enquêtes menée par la région Bretagne et qui a pour spécificité d'interroger notamment les entreprises sur leur rapport au numérique. "
   ]
  },
  {
   "cell_type": "code",
   "execution_count": 10,
   "id": "6fc01677-1e3e-430e-9ea0-c56373cdf95c",
   "metadata": {},
   "outputs": [],
   "source": [
    "# Pandas la librairie préférée des datascientists sous Python (selon mon tout\n",
    "# petit échantillon représentatif)\n",
    "import pandas as pd\n",
    "#Seaborn une librairie sympathique pour la data visualization \n",
    "import seaborn as sb\n",
    "#Son extension seaborn objets (elle nous servira pour les stripplots)\n",
    "import seaborn.objects as so\n",
    "# Matplotlib.pyplot, des fonctions et objets de matplotlib qui \n",
    "# ne sont pas inclue dans pandas\n",
    "import matplotlib.pyplot as plt"
   ]
  },
  {
   "cell_type": "markdown",
   "id": "21a14094-7e4d-4187-821e-08187fdbd200",
   "metadata": {},
   "source": [
    "Commençons par définir une série de grandes questions. Pour cela regardons les données à notre disposition"
   ]
  },
  {
   "cell_type": "code",
   "execution_count": 145,
   "id": "4ec3b8a5-55eb-42bd-b094-c4c459763d58",
   "metadata": {},
   "outputs": [],
   "source": [
    "#On importe Marsouin (ici il faut trouver le bon lien \n",
    "# en s'adaptant à votre ordinateur)\n",
    "df = pd.read_excel(\"C:/Users/cypri/OneDrive/Bureau/Cours Télécom Paris/Sociologie du numérique contemporain/TD/Séance 3/marsouin-entreprises_2023_bdd_anom.xlsx\")"
   ]
  },
  {
   "cell_type": "code",
   "execution_count": 20,
   "id": "4c78b900-ba84-45c4-b627-1adc833c33fd",
   "metadata": {},
   "outputs": [
    {
     "data": {
      "text/html": [
       "<div>\n",
       "<style scoped>\n",
       "    .dataframe tbody tr th:only-of-type {\n",
       "        vertical-align: middle;\n",
       "    }\n",
       "\n",
       "    .dataframe tbody tr th {\n",
       "        vertical-align: top;\n",
       "    }\n",
       "\n",
       "    .dataframe thead th {\n",
       "        text-align: right;\n",
       "    }\n",
       "</style>\n",
       "<table border=\"1\" class=\"dataframe\">\n",
       "  <thead>\n",
       "    <tr style=\"text-align: right;\">\n",
       "      <th></th>\n",
       "      <th>id</th>\n",
       "      <th>G01Q03</th>\n",
       "      <th>G01Q04</th>\n",
       "      <th>G01Q05</th>\n",
       "      <th>G01Q06</th>\n",
       "      <th>G01Q07</th>\n",
       "      <th>G01Q08</th>\n",
       "      <th>G01Q09</th>\n",
       "      <th>G01Q10</th>\n",
       "      <th>G02Q11[SQ01]</th>\n",
       "      <th>...</th>\n",
       "      <th>G06Q54[SQ02]</th>\n",
       "      <th>G06Q54[SQ03]</th>\n",
       "      <th>G06Q54[SQ04]</th>\n",
       "      <th>G06Q54[SQ05]</th>\n",
       "      <th>G06Q54[SQ06]</th>\n",
       "      <th>G06Q54[SQ07]</th>\n",
       "      <th>G06Q54[SQ08]</th>\n",
       "      <th>G06Q55</th>\n",
       "      <th>G06Q56</th>\n",
       "      <th>poids</th>\n",
       "    </tr>\n",
       "  </thead>\n",
       "  <tbody>\n",
       "    <tr>\n",
       "      <th>0</th>\n",
       "      <td>1</td>\n",
       "      <td>Act. spéc., scient. et tech. et act. de serv. ...</td>\n",
       "      <td>Ille-et-Vilaine</td>\n",
       "      <td>L'unique établissement de l'entreprise</td>\n",
       "      <td>Non</td>\n",
       "      <td>NaN</td>\n",
       "      <td>Entre 10 et 20 ans</td>\n",
       "      <td>Entre 20 et 49</td>\n",
       "      <td>En croissance</td>\n",
       "      <td>Plus de 75% des salariés</td>\n",
       "      <td>...</td>\n",
       "      <td>3</td>\n",
       "      <td>5</td>\n",
       "      <td>1</td>\n",
       "      <td>4</td>\n",
       "      <td>1</td>\n",
       "      <td>1</td>\n",
       "      <td>3</td>\n",
       "      <td>3</td>\n",
       "      <td>5</td>\n",
       "      <td>0.862862</td>\n",
       "    </tr>\n",
       "    <tr>\n",
       "      <th>1</th>\n",
       "      <td>2</td>\n",
       "      <td>Act. spéc., scient. et tech. et act. de serv. ...</td>\n",
       "      <td>Côtes d'Armor</td>\n",
       "      <td>Un des établissements d'une entreprise multi-é...</td>\n",
       "      <td>Oui</td>\n",
       "      <td>Certaines sont à l'étranger</td>\n",
       "      <td>Moins de 3 ans</td>\n",
       "      <td>Entre 10 et 19</td>\n",
       "      <td>Ne souhaite pas répondre</td>\n",
       "      <td>Plus de 75% des salariés</td>\n",
       "      <td>...</td>\n",
       "      <td>Vous n'avez pas d'opinion, vous ne savez pas</td>\n",
       "      <td>Vous n'avez pas d'opinion, vous ne savez pas</td>\n",
       "      <td>Vous n'avez pas d'opinion, vous ne savez pas</td>\n",
       "      <td>Vous n'avez pas d'opinion, vous ne savez pas</td>\n",
       "      <td>Vous n'avez pas d'opinion, vous ne savez pas</td>\n",
       "      <td>Vous n'avez pas d'opinion, vous ne savez pas</td>\n",
       "      <td>Vous n'avez pas d'opinion, vous ne savez pas</td>\n",
       "      <td>Vous n'avez pas d'opinion, vous ne savez pas</td>\n",
       "      <td>Vous n'avez pas d'opinion, vous ne savez pas</td>\n",
       "      <td>0.960166</td>\n",
       "    </tr>\n",
       "    <tr>\n",
       "      <th>2</th>\n",
       "      <td>3</td>\n",
       "      <td>Act. spéc., scient. et tech. et act. de serv. ...</td>\n",
       "      <td>Morbihan</td>\n",
       "      <td>Un des établissements d'une entreprise multi-é...</td>\n",
       "      <td>Oui</td>\n",
       "      <td>Toutes dans la région Bretagne</td>\n",
       "      <td>Entre 3 et 5 ans</td>\n",
       "      <td>Entre 10 et 19</td>\n",
       "      <td>En diminution</td>\n",
       "      <td>De 10% à 25% des salariés</td>\n",
       "      <td>...</td>\n",
       "      <td>1</td>\n",
       "      <td>4</td>\n",
       "      <td>3</td>\n",
       "      <td>4</td>\n",
       "      <td>2</td>\n",
       "      <td>1</td>\n",
       "      <td>3</td>\n",
       "      <td>3</td>\n",
       "      <td>1</td>\n",
       "      <td>1.036514</td>\n",
       "    </tr>\n",
       "    <tr>\n",
       "      <th>3</th>\n",
       "      <td>4</td>\n",
       "      <td>Act. spéc., scient. et tech. et act. de serv. ...</td>\n",
       "      <td>Ille-et-Vilaine</td>\n",
       "      <td>Un des établissements d'une entreprise multi-é...</td>\n",
       "      <td>Oui</td>\n",
       "      <td>Certaines sont à l'étranger</td>\n",
       "      <td>Moins de 3 ans</td>\n",
       "      <td>250 et plus</td>\n",
       "      <td>En diminution</td>\n",
       "      <td>Moins de 10% des salariés</td>\n",
       "      <td>...</td>\n",
       "      <td>Vous n'avez pas d'opinion, vous ne savez pas</td>\n",
       "      <td>5</td>\n",
       "      <td>Vous n'avez pas d'opinion, vous ne savez pas</td>\n",
       "      <td>2</td>\n",
       "      <td>Vous n'avez pas d'opinion, vous ne savez pas</td>\n",
       "      <td>Vous n'avez pas d'opinion, vous ne savez pas</td>\n",
       "      <td>Vous n'avez pas d'opinion, vous ne savez pas</td>\n",
       "      <td>4</td>\n",
       "      <td>1</td>\n",
       "      <td>1.516859</td>\n",
       "    </tr>\n",
       "    <tr>\n",
       "      <th>4</th>\n",
       "      <td>5</td>\n",
       "      <td>Act. spéc., scient. et tech. et act. de serv. ...</td>\n",
       "      <td>Ille-et-Vilaine</td>\n",
       "      <td>Un des établissements d'une entreprise multi-é...</td>\n",
       "      <td>Oui</td>\n",
       "      <td>Toutes en France</td>\n",
       "      <td>Entre 3 et 5 ans</td>\n",
       "      <td>Entre 20 et 49</td>\n",
       "      <td>En croissance</td>\n",
       "      <td>Moins de 10% des salariés</td>\n",
       "      <td>...</td>\n",
       "      <td>1</td>\n",
       "      <td>5</td>\n",
       "      <td>5</td>\n",
       "      <td>2</td>\n",
       "      <td>1</td>\n",
       "      <td>1</td>\n",
       "      <td>1</td>\n",
       "      <td>2</td>\n",
       "      <td>5</td>\n",
       "      <td>0.862862</td>\n",
       "    </tr>\n",
       "  </tbody>\n",
       "</table>\n",
       "<p>5 rows × 187 columns</p>\n",
       "</div>"
      ],
      "text/plain": [
       "   id                                             G01Q03           G01Q04  \\\n",
       "0   1  Act. spéc., scient. et tech. et act. de serv. ...  Ille-et-Vilaine   \n",
       "1   2  Act. spéc., scient. et tech. et act. de serv. ...    Côtes d'Armor   \n",
       "2   3  Act. spéc., scient. et tech. et act. de serv. ...         Morbihan   \n",
       "3   4  Act. spéc., scient. et tech. et act. de serv. ...  Ille-et-Vilaine   \n",
       "4   5  Act. spéc., scient. et tech. et act. de serv. ...  Ille-et-Vilaine   \n",
       "\n",
       "                                              G01Q05 G01Q06  \\\n",
       "0             L'unique établissement de l'entreprise    Non   \n",
       "1  Un des établissements d'une entreprise multi-é...    Oui   \n",
       "2  Un des établissements d'une entreprise multi-é...    Oui   \n",
       "3  Un des établissements d'une entreprise multi-é...    Oui   \n",
       "4  Un des établissements d'une entreprise multi-é...    Oui   \n",
       "\n",
       "                           G01Q07              G01Q08          G01Q09  \\\n",
       "0                             NaN  Entre 10 et 20 ans  Entre 20 et 49   \n",
       "1     Certaines sont à l'étranger      Moins de 3 ans  Entre 10 et 19   \n",
       "2  Toutes dans la région Bretagne    Entre 3 et 5 ans  Entre 10 et 19   \n",
       "3     Certaines sont à l'étranger      Moins de 3 ans     250 et plus   \n",
       "4                Toutes en France    Entre 3 et 5 ans  Entre 20 et 49   \n",
       "\n",
       "                     G01Q10               G02Q11[SQ01]  ...  \\\n",
       "0             En croissance   Plus de 75% des salariés  ...   \n",
       "1  Ne souhaite pas répondre   Plus de 75% des salariés  ...   \n",
       "2             En diminution  De 10% à 25% des salariés  ...   \n",
       "3             En diminution  Moins de 10% des salariés  ...   \n",
       "4             En croissance  Moins de 10% des salariés  ...   \n",
       "\n",
       "                                   G06Q54[SQ02]  \\\n",
       "0                                             3   \n",
       "1  Vous n'avez pas d'opinion, vous ne savez pas   \n",
       "2                                             1   \n",
       "3  Vous n'avez pas d'opinion, vous ne savez pas   \n",
       "4                                             1   \n",
       "\n",
       "                                   G06Q54[SQ03]  \\\n",
       "0                                             5   \n",
       "1  Vous n'avez pas d'opinion, vous ne savez pas   \n",
       "2                                             4   \n",
       "3                                             5   \n",
       "4                                             5   \n",
       "\n",
       "                                   G06Q54[SQ04]  \\\n",
       "0                                             1   \n",
       "1  Vous n'avez pas d'opinion, vous ne savez pas   \n",
       "2                                             3   \n",
       "3  Vous n'avez pas d'opinion, vous ne savez pas   \n",
       "4                                             5   \n",
       "\n",
       "                                   G06Q54[SQ05]  \\\n",
       "0                                             4   \n",
       "1  Vous n'avez pas d'opinion, vous ne savez pas   \n",
       "2                                             4   \n",
       "3                                             2   \n",
       "4                                             2   \n",
       "\n",
       "                                   G06Q54[SQ06]  \\\n",
       "0                                             1   \n",
       "1  Vous n'avez pas d'opinion, vous ne savez pas   \n",
       "2                                             2   \n",
       "3  Vous n'avez pas d'opinion, vous ne savez pas   \n",
       "4                                             1   \n",
       "\n",
       "                                   G06Q54[SQ07]  \\\n",
       "0                                             1   \n",
       "1  Vous n'avez pas d'opinion, vous ne savez pas   \n",
       "2                                             1   \n",
       "3  Vous n'avez pas d'opinion, vous ne savez pas   \n",
       "4                                             1   \n",
       "\n",
       "                                   G06Q54[SQ08]  \\\n",
       "0                                             3   \n",
       "1  Vous n'avez pas d'opinion, vous ne savez pas   \n",
       "2                                             3   \n",
       "3  Vous n'avez pas d'opinion, vous ne savez pas   \n",
       "4                                             1   \n",
       "\n",
       "                                         G06Q55  \\\n",
       "0                                             3   \n",
       "1  Vous n'avez pas d'opinion, vous ne savez pas   \n",
       "2                                             3   \n",
       "3                                             4   \n",
       "4                                             2   \n",
       "\n",
       "                                         G06Q56     poids  \n",
       "0                                             5  0.862862  \n",
       "1  Vous n'avez pas d'opinion, vous ne savez pas  0.960166  \n",
       "2                                             1  1.036514  \n",
       "3                                             1  1.516859  \n",
       "4                                             5  0.862862  \n",
       "\n",
       "[5 rows x 187 columns]"
      ]
     },
     "execution_count": 20,
     "metadata": {},
     "output_type": "execute_result"
    }
   ],
   "source": [
    "df.head(5)"
   ]
  },
  {
   "cell_type": "markdown",
   "id": "8543203a-1f44-4606-a073-a9f0a30a088d",
   "metadata": {},
   "source": [
    "Pour commencer nous allons faire quelques statistiques dans l'ordre. Nous allons nous intéresser à quelques aspects du numérique dans les entreprises. Pour commencer nous allons chercher à identifier quelques chiffres clés décrivant ces aspects en faisant des statistiques descriptives."
   ]
  },
  {
   "cell_type": "markdown",
   "id": "072563cc-3fae-4239-9147-f2baa2ccfdfc",
   "metadata": {},
   "source": [
    "Nous allons chercher à établir quelques éléments de statistique descriptive : des moyennes, des écarts-types, des représentations de la distribution de variables et quelques tests statistiques. "
   ]
  },
  {
   "cell_type": "markdown",
   "id": "ebed35dd-cc96-451c-8457-a47ec942e436",
   "metadata": {},
   "source": [
    "Cependant l'enquête Marsouin ne contient quasiment que des variables catégorielles, comme la plupart des enquêtes sociologiques. Il faudra donc s'adapter à ces variables. "
   ]
  },
  {
   "cell_type": "markdown",
   "id": "281c8319-c4b4-491d-bc8a-0dc37a11ff35",
   "metadata": {},
   "source": [
    "On peut d'abord commencer par faire des recodages (un élément important du nettoyage des données). "
   ]
  },
  {
   "cell_type": "code",
   "execution_count": 146,
   "id": "056768f7-e25b-402e-a189-5e518615cb89",
   "metadata": {},
   "outputs": [],
   "source": [
    "#Pour renommer des variables \n",
    "df = df.rename(columns={\"G01Q03\": \"Secteur d'activité\"})\n",
    "df[\"G06Q55\"] = pd.to_numeric(df[\"G06Q55\"], errors = \"coerce\")\n",
    "df = df.rename(columns={\"G06Q55\": \"Note sur le recours au numérique de l'entreprise\"})\n"
   ]
  },
  {
   "cell_type": "code",
   "execution_count": 149,
   "id": "2876a317-abf0-4082-b63e-c51f5a9ad9a8",
   "metadata": {},
   "outputs": [],
   "source": [
    "#Pour renommer des modalités d'une variable \n",
    "df[\"Secteur d'activité\"] = df[\"Secteur d'activité\"].replace(\n",
    "    {'Act. spéc., scient. et tech. et act. de serv. adm. et de soutien': 'Sciences et techniques', \n",
    "    'Enseignement, santé humaine et action sociale': 'Enseignement', \n",
    "    'Industrie manufacturière, industries extractives et autres' : \"Industrie\", \n",
    "    'Commerce, transports, hébergement et restauration' : \"Commerce, logistique, hébergement\"})\n"
   ]
  },
  {
   "cell_type": "markdown",
   "id": "d81c1eb4-cb45-45f9-b820-f10814d1befa",
   "metadata": {},
   "source": [
    "Nous allons maintenant pouvoir représenter la distribution d'une variable catégorielle entre différentes modalités. Le barplot est normalement fait pour cela mais en Python avec seaborn, on utilise la fonction histplot (histogramme normalement c'est pour les variables quantitatives mais pas ici). Barplot sert pour représenter 2 variables. "
   ]
  },
  {
   "cell_type": "code",
   "execution_count": 151,
   "id": "26f24be6-eb16-4803-93b4-17827620df3a",
   "metadata": {},
   "outputs": [
    {
     "data": {
      "image/png": "[encoded data removed]",
      "text/plain": [
       "<Figure size 640x480 with 1 Axes>"
      ]
     },
     "metadata": {},
     "output_type": "display_data"
    }
   ],
   "source": [
    "sb.histplot(x = \"Secteur d'activité\", data = df)\n",
    "# Rotation des étiquettes de l'axe x pour éviter le chevauchement\n",
    "plt.xticks(rotation=45, ha='right')  # Rotation de 45° et alignement à droite\n",
    "\n",
    "# Ajuster l'espacement entre les étiquettes\n",
    "plt.tight_layout()\n",
    "plt.title(\"Secteur d'activité des entreprises étudiées dans l'enquête Marsouin\")\n",
    "plt.ylabel(\"Nombre d'entreprises\")\n",
    "\n",
    "# Affichage du graphique\n",
    "plt.show()"
   ]
  },
  {
   "cell_type": "markdown",
   "id": "60d722aa-f357-40ae-813e-b6a6d85bace1",
   "metadata": {},
   "source": [
    "Les barplots et histogrammes représentent un premier moyen d'étudier la distribution d'une variable catégorielle. On peut avoir les chiffres sur lesquels il se base dans un tableau. "
   ]
  },
  {
   "cell_type": "code",
   "execution_count": 153,
   "id": "0223b9e7-1586-459d-b2f3-66e69d456abd",
   "metadata": {},
   "outputs": [
    {
     "name": "stdout",
     "output_type": "stream",
     "text": [
      "Secteur d'activité\n",
      "Commerce, logistique, hébergement       288\n",
      "Construction                            193\n",
      "Industrie                               184\n",
      "Autres activités de services            160\n",
      "Sciences et techniques                   66\n",
      "Enseignement                             33\n",
      "Agriculture, sylviculture et pêche       33\n",
      "Information et communication             21\n",
      "Activités financières et d'assurance      8\n",
      "Activités immobilières                    6\n",
      "Name: count, dtype: int64\n"
     ]
    }
   ],
   "source": [
    "modalites_distribution = df[\"Secteur d'activité\"].value_counts()\n",
    "print(modalites_distribution) "
   ]
  },
  {
   "cell_type": "markdown",
   "id": "866f1435-7737-4dcd-b806-eba6742e3103",
   "metadata": {},
   "source": [
    "On peut aussi obtenir une série de statistiques descriptives pour une variable quantitative. Dont la moyenne, la médiane, l'écart-type, les quartiles, les extremas. "
   ]
  },
  {
   "cell_type": "code",
   "execution_count": 155,
   "id": "cf857bcb-d2bb-4757-a90a-fe670a7c9765",
   "metadata": {},
   "outputs": [
    {
     "name": "stdout",
     "output_type": "stream",
     "text": [
      "count    775.000000\n",
      "mean       3.367742\n",
      "std        1.106823\n",
      "min        1.000000\n",
      "25%        3.000000\n",
      "50%        3.000000\n",
      "75%        4.000000\n",
      "max        5.000000\n",
      "Name: Note sur le recours au numérique de l'entreprise, dtype: float64\n"
     ]
    }
   ],
   "source": [
    "stat_summary = df[\"Note sur le recours au numérique de l'entreprise\"].describe()\n",
    "\n",
    "print(stat_summary)"
   ]
  },
  {
   "cell_type": "code",
   "execution_count": 159,
   "id": "bc8d6651-4bc6-4a92-8e60-9877167e6cc4",
   "metadata": {},
   "outputs": [
    {
     "name": "stdout",
     "output_type": "stream",
     "text": [
      "3.0\n"
     ]
    }
   ],
   "source": [
    "médiane = df[\"Note sur le recours au numérique de l'entreprise\"].median()\n",
    "\n",
    "print(médiane)"
   ]
  },
  {
   "cell_type": "markdown",
   "id": "f17d972b-0476-4632-934d-a171ca10cfa4",
   "metadata": {},
   "source": [
    "Regardons la distribution de quelques autres variables importantes. "
   ]
  },
  {
   "cell_type": "code",
   "execution_count": 161,
   "id": "a45e149a-6bbe-458b-a9ed-850ae3274f3b",
   "metadata": {},
   "outputs": [],
   "source": [
    "df = df.rename(columns={\"G02Q11[SQ01]\": \"Equipement PC fixes\"})\n",
    "df = df.rename(columns={\"G02Q11[SQ02]\": \"Equipement PC portables\"})\n",
    "df = df.rename(columns={\"G02Q11[SQ03]\": \"Equipement tablettes\"})\n",
    "df = df.rename(columns={\"G02Q11[SQ04]\": \"Equipement téléphones portables\"})"
   ]
  },
  {
   "cell_type": "code",
   "execution_count": 163,
   "id": "7e3f3913-b456-4cc3-b9cc-0db9b7ac25d9",
   "metadata": {},
   "outputs": [
    {
     "name": "stdout",
     "output_type": "stream",
     "text": [
      "Equipement PC fixes\n",
      "Plus de 75% des salariés     244\n",
      "De 10% à 25% des salariés    228\n",
      "Moins de 10% des salariés    207\n",
      "De 25% à 50% des salariés    145\n",
      "De 50% à 75% des salariés     84\n",
      "Aucun salarié                 68\n",
      "NSP-RR                        16\n",
      "Name: count, dtype: int64\n",
      "Equipement PC portables\n",
      "Moins de 10% des salariés    306\n",
      "De 10% à 25% des salariés    194\n",
      "Aucun salarié                153\n",
      "Plus de 75% des salariés     138\n",
      "De 25% à 50% des salariés     90\n",
      "De 50% à 75% des salariés     64\n",
      "NSP-RR                        47\n",
      "Name: count, dtype: int64\n",
      "Equipement tablettes\n",
      "Aucun salarié                453\n",
      "Moins de 10% des salariés    234\n",
      "NSP-RR                       117\n",
      "De 10% à 25% des salariés     77\n",
      "Plus de 75% des salariés      55\n",
      "De 25% à 50% des salariés     35\n",
      "De 50% à 75% des salariés     21\n",
      "Name: count, dtype: int64\n",
      "Equipement téléphones portables\n",
      "Plus de 75% des salariés     267\n",
      "Moins de 10% des salariés    205\n",
      "De 10% à 25% des salariés    172\n",
      "De 25% à 50% des salariés    141\n",
      "Aucun salarié                 96\n",
      "De 50% à 75% des salariés     91\n",
      "NSP-RR                        20\n",
      "Name: count, dtype: int64\n"
     ]
    }
   ],
   "source": [
    "modalites_distribution1 = df[\"Equipement PC fixes\"].value_counts()\n",
    "print(modalites_distribution1) \n",
    "modalites_distribution2 = df[\"Equipement PC portables\"].value_counts()\n",
    "print(modalites_distribution2) \n",
    "modalites_distribution3 = df[\"Equipement tablettes\"].value_counts()\n",
    "print(modalites_distribution3) \n",
    "modalites_distribution4 = df[\"Equipement téléphones portables\"].value_counts()\n",
    "print(modalites_distribution4) "
   ]
  },
  {
   "cell_type": "markdown",
   "id": "8dc55f45-8003-42d0-8324-189f1bec0a81",
   "metadata": {},
   "source": [
    "Maintenant passons à des analyses exploratoires multivariées. Le moyen le plus courant de le faire est d'utiliser des méthodes d'analyse factorielle. Nous avons déjà vu les ACM. Nous pouvons cette fois utilier les ACP (analyse en composante principale). Elles s'utilisent pour étudier des variables quantitatives.  "
   ]
  },
  {
   "cell_type": "code",
   "execution_count": 165,
   "id": "ff2a3aac-dc3b-4213-8ca0-c2a3a68340c4",
   "metadata": {},
   "outputs": [],
   "source": [
    "#On importe les packages \n",
    "import prince\n",
    "from fanalysis.pca import PCA\n",
    "import matplotlib.pyplot as plt"
   ]
  },
  {
   "cell_type": "code",
   "execution_count": 167,
   "id": "1c79004f-a25a-4b76-8031-4836e0a74adf",
   "metadata": {},
   "outputs": [],
   "source": [
    "# On crée une nouvelle base qui ne contient que les variables que l'on veut introduire\n",
    "df[\"G06Q56\"] = pd.to_numeric(df[\"G06Q56\"], errors = \"coerce\")\n",
    "df[\"G06Q54[SQ01]\"] = pd.to_numeric(df[\"G06Q54[SQ01]\"], errors = \"coerce\")\n",
    "df = df.rename(columns={\"G06Q56\": \"Bonne volonté sobriété numérique\"})\n",
    "df = df.rename(columns={\"G06Q54[SQ01]\": \"Etablissement peu concerné sobriété\"})\n",
    "df_ACP = pd.DataFrame(df[[\"Bonne volonté sobriété numérique\", \"Note sur le recours au numérique de l'entreprise\", \"Etablissement peu concerné sobriété\"]])"
   ]
  },
  {
   "cell_type": "code",
   "execution_count": 179,
   "id": "ce55e1bc-69b7-4eb1-9544-2cc876d61393",
   "metadata": {},
   "outputs": [
    {
     "data": {
      "text/html": [
       "<div>\n",
       "<style scoped>\n",
       "    .dataframe tbody tr th:only-of-type {\n",
       "        vertical-align: middle;\n",
       "    }\n",
       "\n",
       "    .dataframe tbody tr th {\n",
       "        vertical-align: top;\n",
       "    }\n",
       "\n",
       "    .dataframe thead th {\n",
       "        text-align: right;\n",
       "    }\n",
       "</style>\n",
       "<table border=\"1\" class=\"dataframe\">\n",
       "  <thead>\n",
       "    <tr style=\"text-align: right;\">\n",
       "      <th></th>\n",
       "      <th>Bonne volonté sobriété numérique</th>\n",
       "      <th>Note sur le recours au numérique de l'entreprise</th>\n",
       "      <th>Etablissement peu concerné sobriété</th>\n",
       "    </tr>\n",
       "  </thead>\n",
       "  <tbody>\n",
       "    <tr>\n",
       "      <th>0</th>\n",
       "      <td>5.0</td>\n",
       "      <td>3.0</td>\n",
       "      <td>5.0</td>\n",
       "    </tr>\n",
       "    <tr>\n",
       "      <th>2</th>\n",
       "      <td>1.0</td>\n",
       "      <td>3.0</td>\n",
       "      <td>1.0</td>\n",
       "    </tr>\n",
       "    <tr>\n",
       "      <th>3</th>\n",
       "      <td>1.0</td>\n",
       "      <td>4.0</td>\n",
       "      <td>1.0</td>\n",
       "    </tr>\n",
       "    <tr>\n",
       "      <th>4</th>\n",
       "      <td>5.0</td>\n",
       "      <td>2.0</td>\n",
       "      <td>1.0</td>\n",
       "    </tr>\n",
       "    <tr>\n",
       "      <th>5</th>\n",
       "      <td>3.0</td>\n",
       "      <td>3.0</td>\n",
       "      <td>3.0</td>\n",
       "    </tr>\n",
       "  </tbody>\n",
       "</table>\n",
       "</div>"
      ],
      "text/plain": [
       "   Bonne volonté sobriété numérique  \\\n",
       "0                               5.0   \n",
       "2                               1.0   \n",
       "3                               1.0   \n",
       "4                               5.0   \n",
       "5                               3.0   \n",
       "\n",
       "   Note sur le recours au numérique de l'entreprise  \\\n",
       "0                                               3.0   \n",
       "2                                               3.0   \n",
       "3                                               4.0   \n",
       "4                                               2.0   \n",
       "5                                               3.0   \n",
       "\n",
       "   Etablissement peu concerné sobriété  \n",
       "0                                  5.0  \n",
       "2                                  1.0  \n",
       "3                                  1.0  \n",
       "4                                  1.0  \n",
       "5                                  3.0  "
      ]
     },
     "execution_count": 179,
     "metadata": {},
     "output_type": "execute_result"
    }
   ],
   "source": [
    "#Suppression des valeurs manquantes\n",
    "df_ACP = df_ACP.dropna()\n",
    "df_ACP.head()"
   ]
  },
  {
   "cell_type": "code",
   "execution_count": 210,
   "id": "d3999326-5af2-499f-8784-ac28b302d0b1",
   "metadata": {},
   "outputs": [],
   "source": [
    "# Appliquer l'ACM avec fanalysis\n",
    "ACP = prince.PCA(\n",
    "    n_components=4,\n",
    "    n_iter=3,\n",
    "    copy=True,\n",
    "    check_input=True,\n",
    "    engine='sklearn',\n",
    "    random_state=42\n",
    ")\n",
    "ACP = ACP.fit(df_ACP)"
   ]
  },
  {
   "cell_type": "code",
   "execution_count": 191,
   "id": "d740da8b-57e6-4415-a759-46cc6e0cd468",
   "metadata": {},
   "outputs": [
    {
     "data": {
      "text/html": [
       "<style type=\"text/css\">\n",
       "</style>\n",
       "<table id=\"T_2f3c5\">\n",
       "  <thead>\n",
       "    <tr>\n",
       "      <th class=\"index_name level0\" >component</th>\n",
       "      <th id=\"T_2f3c5_level0_col0\" class=\"col_heading level0 col0\" >0</th>\n",
       "      <th id=\"T_2f3c5_level0_col1\" class=\"col_heading level0 col1\" >1</th>\n",
       "      <th id=\"T_2f3c5_level0_col2\" class=\"col_heading level0 col2\" >2</th>\n",
       "    </tr>\n",
       "    <tr>\n",
       "      <th class=\"index_name level0\" >variable</th>\n",
       "      <th class=\"blank col0\" >&nbsp;</th>\n",
       "      <th class=\"blank col1\" >&nbsp;</th>\n",
       "      <th class=\"blank col2\" >&nbsp;</th>\n",
       "    </tr>\n",
       "  </thead>\n",
       "  <tbody>\n",
       "    <tr>\n",
       "      <th id=\"T_2f3c5_level0_row0\" class=\"row_heading level0 row0\" >Bonne volonté sobriété numérique</th>\n",
       "      <td id=\"T_2f3c5_row0_col0\" class=\"data row0 col0\" >4%</td>\n",
       "      <td id=\"T_2f3c5_row0_col1\" class=\"data row0 col1\" >93%</td>\n",
       "      <td id=\"T_2f3c5_row0_col2\" class=\"data row0 col2\" >3%</td>\n",
       "    </tr>\n",
       "    <tr>\n",
       "      <th id=\"T_2f3c5_level0_row1\" class=\"row_heading level0 row1\" >Note sur le recours au numérique de l'entreprise</th>\n",
       "      <td id=\"T_2f3c5_row1_col0\" class=\"data row1 col0\" >50%</td>\n",
       "      <td id=\"T_2f3c5_row1_col1\" class=\"data row1 col1\" >0%</td>\n",
       "      <td id=\"T_2f3c5_row1_col2\" class=\"data row1 col2\" >50%</td>\n",
       "    </tr>\n",
       "    <tr>\n",
       "      <th id=\"T_2f3c5_level0_row2\" class=\"row_heading level0 row2\" >Etablissement peu concerné sobriété</th>\n",
       "      <td id=\"T_2f3c5_row2_col0\" class=\"data row2 col0\" >46%</td>\n",
       "      <td id=\"T_2f3c5_row2_col1\" class=\"data row2 col1\" >7%</td>\n",
       "      <td id=\"T_2f3c5_row2_col2\" class=\"data row2 col2\" >47%</td>\n",
       "    </tr>\n",
       "  </tbody>\n",
       "</table>\n"
      ],
      "text/plain": [
       "<pandas.io.formats.style.Styler at 0x2186960f080>"
      ]
     },
     "execution_count": 191,
     "metadata": {},
     "output_type": "execute_result"
    }
   ],
   "source": [
    "#Cette fois on imprime les contributions des différentes \n",
    "#modalités des variables (attention dans une ACP pas de coordonnées)\n",
    "ACP.column_contributions_.style.format('{:.0%}')"
   ]
  },
  {
   "cell_type": "code",
   "execution_count": 222,
   "id": "8f975256-2e54-4837-8e88-eca2f591804d",
   "metadata": {},
   "outputs": [
    {
     "name": "stdout",
     "output_type": "stream",
     "text": [
      "component         0         1         2\n",
      "0          1.256796 -1.487094  0.772346\n",
      "2         -0.107948  1.988037 -0.697809\n",
      "3         -0.744261  2.009176 -0.057151\n",
      "4         -0.040465 -0.768674 -1.813176\n",
      "5          0.574424  0.250471  0.037268\n",
      "..              ...       ...       ...\n",
      "987       -1.313091 -0.726395 -0.531860\n",
      "988       -1.949404 -0.705256  0.108798\n",
      "989        0.574424  0.250471  0.037268\n",
      "990        0.375445  1.803147 -0.211593\n",
      "991       -1.181595  0.477640  0.832368\n",
      "\n",
      "[667 rows x 3 columns]\n"
     ]
    }
   ],
   "source": [
    "donnees_ACP = ACP.transform(df_ACP)\n",
    "print(donnees_ACP)"
   ]
  },
  {
   "cell_type": "code",
   "execution_count": 218,
   "id": "c049aee4-12f9-4615-9fff-8d8f2c2dbac0",
   "metadata": {},
   "outputs": [
    {
     "data": {
      "image/png": "[encoded data removed]",
      "text/plain": [
       "<Figure size 640x480 with 1 Axes>"
      ]
     },
     "metadata": {},
     "output_type": "display_data"
    }
   ],
   "source": [
    "# Visualisation des données projetées sur les 2 premières composantes principales\n",
    "plt.scatter(donnees_ACP[0], donnees_ACP[1], color='blue')\n",
    "\n",
    "# Ajouter des labels\n",
    "plt.title('Projection des données sur les 2 premières composantes principales')\n",
    "plt.xlabel('Composante principale 1')\n",
    "plt.ylabel('Composante principale 2')\n",
    "\n",
    "# Afficher le graphique\n",
    "plt.show()"
   ]
  },
  {
   "cell_type": "markdown",
   "id": "89f8433c-5258-41fd-88bb-a3e22215d0c1",
   "metadata": {},
   "source": [
    "EN fait il serait beaucoup plus intéressant de faire une ACP qui représente le nuage des variables. C'est assez compliqué à faire en Python mais beaucoup plus facile à faire en R grâce aux packages FactoMineR et explor de ce logiciel. "
   ]
  },
  {
   "cell_type": "markdown",
   "id": "c0c64783-9098-47f4-8375-51624b4e1247",
   "metadata": {},
   "source": [
    "http://localhost:8888/lab/tree/explor_var-Copy1.svg"
   ]
  },
  {
   "cell_type": "markdown",
   "id": "e3dfca69-617d-4e6c-9d7c-51a6991536d2",
   "metadata": {},
   "source": [
    "Pour finir faisons quelques croisements de variables avec tests statistiques"
   ]
  },
  {
   "cell_type": "code",
   "execution_count": 259,
   "id": "19bc513a-3d83-491b-8cf3-c3f0267a24a9",
   "metadata": {},
   "outputs": [
    {
     "data": {
      "text/html": [
       "<style type=\"text/css\">\n",
       "#T_30280 th {\n",
       "  font-size: 14px;\n",
       "  background: #4CAF50;\n",
       "  color: white;\n",
       "}\n",
       "#T_30280_row0_col0 {\n",
       "  width: 10em;\n",
       "  background: linear-gradient(90deg, lightblue 79.8%, transparent 79.8%);\n",
       "}\n",
       "#T_30280_row0_col1 {\n",
       "  width: 10em;\n",
       "  background: linear-gradient(90deg, lightblue 53.2%, transparent 53.2%);\n",
       "}\n",
       "#T_30280_row0_col2, #T_30280_row1_col3, #T_30280_row2_col3, #T_30280_row3_col1, #T_30280_row4_col8, #T_30280_row5_col9 {\n",
       "  width: 10em;\n",
       "  background: linear-gradient(90deg, lightblue 100.0%, transparent 100.0%);\n",
       "}\n",
       "#T_30280_row0_col3 {\n",
       "  width: 10em;\n",
       "  background: linear-gradient(90deg, lightblue 91.8%, transparent 91.8%);\n",
       "}\n",
       "#T_30280_row0_col4 {\n",
       "  width: 10em;\n",
       "  background: linear-gradient(90deg, lightblue 97.2%, transparent 97.2%);\n",
       "}\n",
       "#T_30280_row0_col5 {\n",
       "  width: 10em;\n",
       "  background: linear-gradient(90deg, lightblue 99.8%, transparent 99.8%);\n",
       "}\n",
       "#T_30280_row0_col6 {\n",
       "  width: 10em;\n",
       "  background: linear-gradient(90deg, lightblue 93.5%, transparent 93.5%);\n",
       "}\n",
       "#T_30280_row0_col7 {\n",
       "  width: 10em;\n",
       "  background: linear-gradient(90deg, lightblue 95.5%, transparent 95.5%);\n",
       "}\n",
       "#T_30280_row0_col8 {\n",
       "  width: 10em;\n",
       "  background: linear-gradient(90deg, lightblue 76.0%, transparent 76.0%);\n",
       "}\n",
       "#T_30280_row0_col9 {\n",
       "  width: 10em;\n",
       "  background: linear-gradient(90deg, lightblue 90.3%, transparent 90.3%);\n",
       "}\n",
       "#T_30280_row1_col0, #T_30280_row1_col1, #T_30280_row1_col2, #T_30280_row1_col4, #T_30280_row1_col6, #T_30280_row1_col8, #T_30280_row2_col0, #T_30280_row2_col1, #T_30280_row2_col2, #T_30280_row2_col4, #T_30280_row2_col5, #T_30280_row2_col6, #T_30280_row2_col7, #T_30280_row2_col8, #T_30280_row2_col9, #T_30280_row3_col2, #T_30280_row4_col1, #T_30280_row5_col0, #T_30280_row5_col1, #T_30280_row5_col2, #T_30280_row5_col3, #T_30280_row5_col4, #T_30280_row5_col5, #T_30280_row5_col6, #T_30280_row5_col7, #T_30280_row5_col8 {\n",
       "  width: 10em;\n",
       "}\n",
       "#T_30280_row1_col5 {\n",
       "  width: 10em;\n",
       "  background: linear-gradient(90deg, lightblue 20.8%, transparent 20.8%);\n",
       "}\n",
       "#T_30280_row1_col7 {\n",
       "  width: 10em;\n",
       "  background: linear-gradient(90deg, lightblue 43.6%, transparent 43.6%);\n",
       "}\n",
       "#T_30280_row1_col9 {\n",
       "  width: 10em;\n",
       "  background: linear-gradient(90deg, lightblue 60.8%, transparent 60.8%);\n",
       "}\n",
       "#T_30280_row3_col0 {\n",
       "  width: 10em;\n",
       "  background: linear-gradient(90deg, lightblue 25.0%, transparent 25.0%);\n",
       "}\n",
       "#T_30280_row3_col3 {\n",
       "  width: 10em;\n",
       "  background: linear-gradient(90deg, lightblue 11.2%, transparent 11.2%);\n",
       "}\n",
       "#T_30280_row3_col4 {\n",
       "  width: 10em;\n",
       "  background: linear-gradient(90deg, lightblue 4.9%, transparent 4.9%);\n",
       "}\n",
       "#T_30280_row3_col5 {\n",
       "  width: 10em;\n",
       "  background: linear-gradient(90deg, lightblue 4.1%, transparent 4.1%);\n",
       "}\n",
       "#T_30280_row3_col6 {\n",
       "  width: 10em;\n",
       "  background: linear-gradient(90deg, lightblue 12.1%, transparent 12.1%);\n",
       "}\n",
       "#T_30280_row3_col7 {\n",
       "  width: 10em;\n",
       "  background: linear-gradient(90deg, lightblue 4.3%, transparent 4.3%);\n",
       "}\n",
       "#T_30280_row3_col8 {\n",
       "  width: 10em;\n",
       "  background: linear-gradient(90deg, lightblue 28.6%, transparent 28.6%);\n",
       "}\n",
       "#T_30280_row3_col9 {\n",
       "  width: 10em;\n",
       "  background: linear-gradient(90deg, lightblue 15.2%, transparent 15.2%);\n",
       "}\n",
       "#T_30280_row4_col0 {\n",
       "  width: 10em;\n",
       "  background: linear-gradient(90deg, lightblue 87.5%, transparent 87.5%);\n",
       "}\n",
       "#T_30280_row4_col2, #T_30280_row4_col6 {\n",
       "  width: 10em;\n",
       "  background: linear-gradient(90deg, lightblue 42.4%, transparent 42.4%);\n",
       "}\n",
       "#T_30280_row4_col3 {\n",
       "  width: 10em;\n",
       "  background: linear-gradient(90deg, lightblue 35.0%, transparent 35.0%);\n",
       "}\n",
       "#T_30280_row4_col4 {\n",
       "  width: 10em;\n",
       "  background: linear-gradient(90deg, lightblue 43.7%, transparent 43.7%);\n",
       "}\n",
       "#T_30280_row4_col5 {\n",
       "  width: 10em;\n",
       "  background: linear-gradient(90deg, lightblue 25.4%, transparent 25.4%);\n",
       "}\n",
       "#T_30280_row4_col7 {\n",
       "  width: 10em;\n",
       "  background: linear-gradient(90deg, lightblue 49.5%, transparent 49.5%);\n",
       "}\n",
       "#T_30280_row4_col9 {\n",
       "  width: 10em;\n",
       "  background: linear-gradient(90deg, lightblue 31.8%, transparent 31.8%);\n",
       "}\n",
       "</style>\n",
       "<table id=\"T_30280\">\n",
       "  <thead>\n",
       "    <tr>\n",
       "      <th class=\"index_name level0\" >Secteur d'activité</th>\n",
       "      <th id=\"T_30280_level0_col0\" class=\"col_heading level0 col0\" >Activités financières et d'assurance</th>\n",
       "      <th id=\"T_30280_level0_col1\" class=\"col_heading level0 col1\" >Activités immobilières</th>\n",
       "      <th id=\"T_30280_level0_col2\" class=\"col_heading level0 col2\" >Agriculture, sylviculture et pêche</th>\n",
       "      <th id=\"T_30280_level0_col3\" class=\"col_heading level0 col3\" >Autres activités de services</th>\n",
       "      <th id=\"T_30280_level0_col4\" class=\"col_heading level0 col4\" >Commerce, logistique, hébergement</th>\n",
       "      <th id=\"T_30280_level0_col5\" class=\"col_heading level0 col5\" >Construction</th>\n",
       "      <th id=\"T_30280_level0_col6\" class=\"col_heading level0 col6\" >Enseignement</th>\n",
       "      <th id=\"T_30280_level0_col7\" class=\"col_heading level0 col7\" >Industrie</th>\n",
       "      <th id=\"T_30280_level0_col8\" class=\"col_heading level0 col8\" >Information et communication</th>\n",
       "      <th id=\"T_30280_level0_col9\" class=\"col_heading level0 col9\" >Sciences et techniques</th>\n",
       "    </tr>\n",
       "    <tr>\n",
       "      <th class=\"index_name level0\" >Proportion télétravail coworking</th>\n",
       "      <th class=\"blank col0\" >&nbsp;</th>\n",
       "      <th class=\"blank col1\" >&nbsp;</th>\n",
       "      <th class=\"blank col2\" >&nbsp;</th>\n",
       "      <th class=\"blank col3\" >&nbsp;</th>\n",
       "      <th class=\"blank col4\" >&nbsp;</th>\n",
       "      <th class=\"blank col5\" >&nbsp;</th>\n",
       "      <th class=\"blank col6\" >&nbsp;</th>\n",
       "      <th class=\"blank col7\" >&nbsp;</th>\n",
       "      <th class=\"blank col8\" >&nbsp;</th>\n",
       "      <th class=\"blank col9\" >&nbsp;</th>\n",
       "    </tr>\n",
       "  </thead>\n",
       "  <tbody>\n",
       "    <tr>\n",
       "      <th id=\"T_30280_level0_row0\" class=\"row_heading level0 row0\" >Aucun salarié</th>\n",
       "      <td id=\"T_30280_row0_col0\" class=\"data row0 col0\" >75</td>\n",
       "      <td id=\"T_30280_row0_col1\" class=\"data row0 col1\" >50</td>\n",
       "      <td id=\"T_30280_row0_col2\" class=\"data row0 col2\" >94</td>\n",
       "      <td id=\"T_30280_row0_col3\" class=\"data row0 col3\" >86</td>\n",
       "      <td id=\"T_30280_row0_col4\" class=\"data row0 col4\" >91</td>\n",
       "      <td id=\"T_30280_row0_col5\" class=\"data row0 col5\" >94</td>\n",
       "      <td id=\"T_30280_row0_col6\" class=\"data row0 col6\" >88</td>\n",
       "      <td id=\"T_30280_row0_col7\" class=\"data row0 col7\" >90</td>\n",
       "      <td id=\"T_30280_row0_col8\" class=\"data row0 col8\" >71</td>\n",
       "      <td id=\"T_30280_row0_col9\" class=\"data row0 col9\" >85</td>\n",
       "    </tr>\n",
       "    <tr>\n",
       "      <th id=\"T_30280_level0_row1\" class=\"row_heading level0 row1\" >De 10% à 25%</th>\n",
       "      <td id=\"T_30280_row1_col0\" class=\"data row1 col0\" >0</td>\n",
       "      <td id=\"T_30280_row1_col1\" class=\"data row1 col1\" >0</td>\n",
       "      <td id=\"T_30280_row1_col2\" class=\"data row1 col2\" >0</td>\n",
       "      <td id=\"T_30280_row1_col3\" class=\"data row1 col3\" >2</td>\n",
       "      <td id=\"T_30280_row1_col4\" class=\"data row1 col4\" >0</td>\n",
       "      <td id=\"T_30280_row1_col5\" class=\"data row1 col5\" >1</td>\n",
       "      <td id=\"T_30280_row1_col6\" class=\"data row1 col6\" >0</td>\n",
       "      <td id=\"T_30280_row1_col7\" class=\"data row1 col7\" >1</td>\n",
       "      <td id=\"T_30280_row1_col8\" class=\"data row1 col8\" >0</td>\n",
       "      <td id=\"T_30280_row1_col9\" class=\"data row1 col9\" >2</td>\n",
       "    </tr>\n",
       "    <tr>\n",
       "      <th id=\"T_30280_level0_row2\" class=\"row_heading level0 row2\" >De 25% à 50%</th>\n",
       "      <td id=\"T_30280_row2_col0\" class=\"data row2 col0\" >0</td>\n",
       "      <td id=\"T_30280_row2_col1\" class=\"data row2 col1\" >0</td>\n",
       "      <td id=\"T_30280_row2_col2\" class=\"data row2 col2\" >0</td>\n",
       "      <td id=\"T_30280_row2_col3\" class=\"data row2 col3\" >1</td>\n",
       "      <td id=\"T_30280_row2_col4\" class=\"data row2 col4\" >0</td>\n",
       "      <td id=\"T_30280_row2_col5\" class=\"data row2 col5\" >0</td>\n",
       "      <td id=\"T_30280_row2_col6\" class=\"data row2 col6\" >0</td>\n",
       "      <td id=\"T_30280_row2_col7\" class=\"data row2 col7\" >0</td>\n",
       "      <td id=\"T_30280_row2_col8\" class=\"data row2 col8\" >0</td>\n",
       "      <td id=\"T_30280_row2_col9\" class=\"data row2 col9\" >0</td>\n",
       "    </tr>\n",
       "    <tr>\n",
       "      <th id=\"T_30280_level0_row3\" class=\"row_heading level0 row3\" >Moins de 10%</th>\n",
       "      <td id=\"T_30280_row3_col0\" class=\"data row3 col0\" >12</td>\n",
       "      <td id=\"T_30280_row3_col1\" class=\"data row3 col1\" >50</td>\n",
       "      <td id=\"T_30280_row3_col2\" class=\"data row3 col2\" >0</td>\n",
       "      <td id=\"T_30280_row3_col3\" class=\"data row3 col3\" >6</td>\n",
       "      <td id=\"T_30280_row3_col4\" class=\"data row3 col4\" >2</td>\n",
       "      <td id=\"T_30280_row3_col5\" class=\"data row3 col5\" >2</td>\n",
       "      <td id=\"T_30280_row3_col6\" class=\"data row3 col6\" >6</td>\n",
       "      <td id=\"T_30280_row3_col7\" class=\"data row3 col7\" >2</td>\n",
       "      <td id=\"T_30280_row3_col8\" class=\"data row3 col8\" >14</td>\n",
       "      <td id=\"T_30280_row3_col9\" class=\"data row3 col9\" >8</td>\n",
       "    </tr>\n",
       "    <tr>\n",
       "      <th id=\"T_30280_level0_row4\" class=\"row_heading level0 row4\" >Ne sait pas répondre</th>\n",
       "      <td id=\"T_30280_row4_col0\" class=\"data row4 col0\" >12</td>\n",
       "      <td id=\"T_30280_row4_col1\" class=\"data row4 col1\" >0</td>\n",
       "      <td id=\"T_30280_row4_col2\" class=\"data row4 col2\" >6</td>\n",
       "      <td id=\"T_30280_row4_col3\" class=\"data row4 col3\" >5</td>\n",
       "      <td id=\"T_30280_row4_col4\" class=\"data row4 col4\" >6</td>\n",
       "      <td id=\"T_30280_row4_col5\" class=\"data row4 col5\" >4</td>\n",
       "      <td id=\"T_30280_row4_col6\" class=\"data row4 col6\" >6</td>\n",
       "      <td id=\"T_30280_row4_col7\" class=\"data row4 col7\" >7</td>\n",
       "      <td id=\"T_30280_row4_col8\" class=\"data row4 col8\" >14</td>\n",
       "      <td id=\"T_30280_row4_col9\" class=\"data row4 col9\" >5</td>\n",
       "    </tr>\n",
       "    <tr>\n",
       "      <th id=\"T_30280_level0_row5\" class=\"row_heading level0 row5\" >Plus de 75%</th>\n",
       "      <td id=\"T_30280_row5_col0\" class=\"data row5 col0\" >0</td>\n",
       "      <td id=\"T_30280_row5_col1\" class=\"data row5 col1\" >0</td>\n",
       "      <td id=\"T_30280_row5_col2\" class=\"data row5 col2\" >0</td>\n",
       "      <td id=\"T_30280_row5_col3\" class=\"data row5 col3\" >0</td>\n",
       "      <td id=\"T_30280_row5_col4\" class=\"data row5 col4\" >0</td>\n",
       "      <td id=\"T_30280_row5_col5\" class=\"data row5 col5\" >0</td>\n",
       "      <td id=\"T_30280_row5_col6\" class=\"data row5 col6\" >0</td>\n",
       "      <td id=\"T_30280_row5_col7\" class=\"data row5 col7\" >0</td>\n",
       "      <td id=\"T_30280_row5_col8\" class=\"data row5 col8\" >0</td>\n",
       "      <td id=\"T_30280_row5_col9\" class=\"data row5 col9\" >2</td>\n",
       "    </tr>\n",
       "  </tbody>\n",
       "</table>\n"
      ],
      "text/plain": [
       "<pandas.io.formats.style.Styler at 0x218667221e0>"
      ]
     },
     "execution_count": 259,
     "metadata": {},
     "output_type": "execute_result"
    }
   ],
   "source": [
    "from tabulate import tabulate\n",
    "import scipy.stats as stats\n",
    "\n",
    "df = df.rename(columns={\"G03Q34\": \"Proportion télétravail coworking\"})\n",
    "\n",
    "# Génération du tableau (pas très beau)\n",
    "crosstab_table = pd.crosstab(df[\"Proportion télétravail coworking\"], df[\"Secteur d'activité\"], normalize='columns') *100\n",
    "crosstab_table = crosstab_table.round(2)\n",
    "\n",
    "# Embellissement\n",
    "styled_table = crosstab_table.style.format(\"{:.0f}\").set_table_styles(\n",
    "    [{'selector': 'th', 'props': [('font-size', '14px'), ('background', '#4CAF50'), ('color', 'white')]}]\n",
    ").bar(color='lightblue', axis=1)\n",
    "\n",
    "# Affichage dans Jupyter Notebook\n",
    "styled_table\n"
   ]
  },
  {
   "cell_type": "markdown",
   "id": "72d48edc-efda-403d-9a7c-4965e9889247",
   "metadata": {},
   "source": [
    "Il est intéressant de voir que ce sont surtout les secteurs de l'économie financière et des TIC qui sont concernées. Ils représentent des métiers à forte proportion de cadre et de travail administratif et réglementaire. "
   ]
  },
  {
   "cell_type": "markdown",
   "id": "dbdccca5-6fa3-45d5-83fe-5338bacec151",
   "metadata": {},
   "source": [
    "Tentons maintenant d'appliquer un test statistique pour tester la robustesse de ce constat. Pour les données catégorielles il existe deux tests très utilisés : le khi-deux et le V de Cramer, qui est une version réduite (entre 0 et 1) du khi-deux. "
   ]
  },
  {
   "cell_type": "code",
   "execution_count": 261,
   "id": "feae375e-b8a6-4c29-adac-42a95fd195c2",
   "metadata": {},
   "outputs": [
    {
     "data": {
      "text/plain": [
       "Chi2ContingencyResult(statistic=264.68756752059335, pvalue=6.912132568040286e-33, dof=45, expected_freq=array([[8.24103518e+01, 8.24103518e+01, 8.24103518e+01, 8.24021108e+01,\n",
       "        8.24103518e+01, 8.24103518e+01, 8.24103518e+01, 8.24103518e+01,\n",
       "        8.24185928e+01, 8.24268339e+01],\n",
       "       [5.62988740e-01, 5.62988740e-01, 5.62988740e-01, 5.62932441e-01,\n",
       "        5.62988740e-01, 5.62988740e-01, 5.62988740e-01, 5.62988740e-01,\n",
       "        5.63045039e-01, 5.63101338e-01],\n",
       "       [6.19987600e-02, 6.19987600e-02, 6.19987600e-02, 6.19925601e-02,\n",
       "        6.19987600e-02, 6.19987600e-02, 6.19987600e-02, 6.19987600e-02,\n",
       "        6.20049599e-02, 6.20111598e-02],\n",
       "       [1.02717946e+01, 1.02717946e+01, 1.02717946e+01, 1.02707674e+01,\n",
       "        1.02717946e+01, 1.02717946e+01, 1.02717946e+01, 1.02717946e+01,\n",
       "        1.02728217e+01, 1.02738489e+01],\n",
       "       [6.54086918e+00, 6.54086918e+00, 6.54086918e+00, 6.54021510e+00,\n",
       "        6.54086918e+00, 6.54086918e+00, 6.54086918e+00, 6.54086918e+00,\n",
       "        6.54152327e+00, 6.54217736e+00],\n",
       "       [1.51996960e-01, 1.51996960e-01, 1.51996960e-01, 1.51981760e-01,\n",
       "        1.51996960e-01, 1.51996960e-01, 1.51996960e-01, 1.51996960e-01,\n",
       "        1.52012160e-01, 1.52027359e-01]]))"
      ]
     },
     "execution_count": 261,
     "metadata": {},
     "output_type": "execute_result"
    }
   ],
   "source": [
    "stats.chi2_contingency(crosstab_table)"
   ]
  },
  {
   "cell_type": "markdown",
   "id": "606add80-db26-4106-ad55-36d427f27f67",
   "metadata": {},
   "source": [
    "À votre tour: posez une question et tentez d'y répondre d'ici la fin de la séance !"
   ]
  }
 ],
 "metadata": {
  "kernelspec": {
   "display_name": "Python 3 (ipykernel)",
   "language": "python",
   "name": "python3"
  },
  "language_info": {
   "codemirror_mode": {
    "name": "ipython",
    "version": 3
   },
   "file_extension": ".py",
   "mimetype": "text/x-python",
   "name": "python",
   "nbconvert_exporter": "python",
   "pygments_lexer": "ipython3",
   "version": "3.12.4"
  }
 },
 "nbformat": 4,
 "nbformat_minor": 5
}
